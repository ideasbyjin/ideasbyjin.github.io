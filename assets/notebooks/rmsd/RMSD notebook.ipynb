{
 "cells": [
  {
   "cell_type": "markdown",
   "metadata": {},
   "source": [
    "# Calculate RMSD using SVD\n",
    "\n",
    "During my PhD and postdoc, my main day-to-day was driven by one question: \n",
    "\n",
    ">How do we make the best model protein structures? \n",
    "\n",
    "To answer that question, this is often done by calculating the root-mean square deviation (RMSD) between the predicted structure vs. the known 'true' protein structure. There are other measures (e.g. TM-score, GDT_TS), but RMSD is still the most intuitive, and (unfortunately?) the accepted standard metric for goodness-of-fit.\n",
    "* RMSD has some flaws; for example, it suffers from [size-dependent effects](https://www.ncbi.nlm.nih.gov/pmc/articles/PMC4321859/), but we will discuss this another time.\n",
    "\n",
    "**If you have less than 3 minutes**\n",
    "* Singular-value decomposition (SVD) allows us to find the optimal _rotation_ and _translation_ matrices that best aligns the predicted structure to the true protein structure. Following alignment, it's a case of just computing\n",
    "$$RMSD = \\sqrt{\\dfrac{1}{n} \\sum_{i=1}^{n} d_i}$$ \n",
    "where \n",
    "$$d_i = (x_{i,nat}-x_{i, model})^2 + (y_{i,nat}-y_{i, model})^2 + (z_{i,nat}-z_{i, model})^2$$\n",
    "\n",
    "![RMSD_schematic](rmsd_schematic.png)\n",
    "\n",
    "**If you have about 10 minutes**\n",
    "* Read on."
   ]
  },
  {
   "cell_type": "markdown",
   "metadata": {},
   "source": [
    "### A very short primer on protein structure data - feel free to skip if you know what protein structures are like!\n",
    "\n",
    "The Protein Data Bank (PDB) is _the_ central repository that contains protein structure data. The data is gathered from scientists from around the world who determine the structure of a protein through experimental methods (typically X-ray crystallography, but the trend is going toward cryo electron microscopy; cryo-EM). One thing to bear in mind is that every structure that we have, even though it's experimental data, is in fact (yet another) a model! \n",
    "\n",
    "Condensing lots of physics and theory here, but in the case of X-ray crystallography, it largely has to do with the fact that the method detects and \"sees\" _electron diffraction_. It doesn't see proteins as fancy helices or loops;\n",
    "\n",
    "<div>\n",
    "    <img src=\"cartoon.png\" style=\"width: 50%\"/>\n",
    "</div>\n",
    "\n",
    "Thus, to resolve from an electron diffraction to signals that can be used as atomic coordinates, lots of physics and maths are involved. Essentially, the final structure we obtain is a _model of the electron density data_."
   ]
  },
  {
   "cell_type": "markdown",
   "metadata": {},
   "source": [
    "Protein structures are then represented in an unusual 80-character format (historical reasons) that contain:\n",
    "* Information about a protein's sequence\n",
    "* Information about the amino acids that make up the protein, and _most importantly for this exercise_,\n",
    "* The coordinates of each **atom** in the protein.\n",
    "\n",
    "The coordinates are in 3-dimensional $(x,y,z)$ space, and represented by an $N \\times 3$ matrix:\n",
    "\n",
    "```\n",
    "[ 16.54 ,  10.798, -30.122],\n",
    "[ 16.677,  12.283, -30.154],\n",
    "[ 16.876,  12.799, -28.737],\n",
    "...,\n",
    "[ -7.62 ,  -7.475,  -5.355],\n",
    "[-11.083,   2.95 ,  -9.974],\n",
    "[-10.271,   2.053, -12.363]\n",
    "```\n",
    "\n",
    "leading to a structure like this:\n",
    "\n",
    "<div>\n",
    "    <img src=\"adh.png\" width=\"300\"/>\n",
    "</div>"
   ]
  },
  {
   "cell_type": "markdown",
   "metadata": {},
   "source": [
    "## RMSD - the maths\n",
    "Given two protein structures with $n$ atoms, the RMSD between the two can be calulated by:\n",
    "$$RMSD = \\sqrt{\\dfrac{1}{n} \\sum_{i=1}^{n} () }$$\n",
    "where\n",
    "$$d_i = (x_{i,nat}-x_{i, model})^2 + (y_{i,nat}-y_{i, model})^2 + (z_{i,nat}-z_{i, model})^2$$\n",
    "\n",
    "So what does this mean? We iterate across $n$ aligned (this will be explained later) atoms, and take the difference in their x-, y-, and z-coordinates. We then take the square root of the average deviation. This metric can be custom fit to either calculate across _all_ atoms of two protein structures, or a subset - so long as $n$ is identical between the predicted and true structures."
   ]
  },
  {
   "cell_type": "markdown",
   "metadata": {},
   "source": [
    "### Align structures _before_ calculating RMSD!\n",
    "\n",
    "Before we calculate the RMSD, we need to `align` our structures for two reasons:\n",
    "* PDB structures are typically situated in different starting coordinates of Euclidean space.\n",
    "* There can be small differences in length between the true and predicted structures, and/or it may be relevant to measure the RMSD across a comparable region.\n",
    "\n",
    "However, _how_ do we align two protein structures? Structural alignment can be done with many variations; the green structure is the \"true\" answer and the purple one is the prediction.\n",
    "<div>\n",
    "    <img src=\"aln_1.png\" style=\"width:33.3%; float: left\"/>\n",
    "    <img src=\"aln_2.png\" style=\"width:33.3%; float: left\"/>\n",
    "    <img src=\"aln_3.png\" style=\"width:33.3%; float: left\"/>\n",
    "</div>\n",
    "\n",
    "Intuitively, we can see that the third alignment is the \"correct\" one - it maximises the 'fit' between the green and purple structures. This is the alignment that **minimises the RMSD**, and this alignment is obtained by singular value decomposition (SVD). In fact, for the purposes of calculating RMSD for model prediction, we often find this optimal alignment first, _then_ measure the RMSD.\n",
    "\n",
    "Computationally, the simplest way to align two structures is to use BioPython. When we align structures, it's good practice to be mindful of the following:\n",
    "* There should be a way to align the sequences of two structures. This does **not** mean that there has to be an _exact amino acid sequence match_ between the native structure and the predicted structure. However, a mechanism to compare them should be considered. Simply using residue numbers doesn't always work, either! (but this is for another time)\n",
    "* We can align one part of the structure to then measure the RMSD of another. This is particularly useful when we want to measure the RMSD of a very specific subsequence when the remaining bits of the protein structure are almost invariant."
   ]
  },
  {
   "cell_type": "markdown",
   "metadata": {},
   "source": [
    "## Calculating RMSD using BioPython\n",
    "We will assume, for sake of argument, that the _alpha_ alcohol dehydrogenase (PDB: 1hso) is the \"true\" structure and the _gamma_ alcohol dehydrogenase (PDB: 1ht0) is the \"model\" structure."
   ]
  },
  {
   "cell_type": "code",
   "execution_count": 1,
   "metadata": {},
   "outputs": [],
   "source": [
    "# This makes life so much easier.\n",
    "from Bio.PDB.PDBParser import PDBParser\n",
    "from Bio.SVDSuperimposer import SVDSuperimposer\n",
    "import numpy as np"
   ]
  },
  {
   "cell_type": "code",
   "execution_count": 2,
   "metadata": {},
   "outputs": [],
   "source": [
    "# Let's get our two structures; call them native (true) and model \n",
    "p = PDBParser(QUIET=True)\n",
    "native = p.get_structure(\"native\", \"1hso.pdb\")\n",
    "model  = p.get_structure(\"model\", \"1ht0.pdb\")"
   ]
  },
  {
   "cell_type": "markdown",
   "metadata": {},
   "source": [
    "Protein structures contain the following:\n",
    "* Chains (these are typically codified with a letter)\n",
    "* Residues (these are almost always numbered)\n",
    "* Atoms\n",
    "\n",
    "A protein structure object from the PDB parser allows us to grab each; e.g., to get the set of residues in chain A of the protein,\n",
    "```\n",
    "chain_a = native[0]['A']\n",
    "residues_a = [ r for r in chain_a ]\n",
    "```\n",
    "\n",
    "(For the eagle-eyed of you, you would have noticed a `0` indexing above. That's because the `Structure` object from the BioPython PDBParser also adds another layer, called the `Model` layer (**not** to be confused with \"model structure\" as we have mentioned previously))"
   ]
  },
  {
   "cell_type": "code",
   "execution_count": 3,
   "metadata": {},
   "outputs": [],
   "source": [
    "from Bio.PDB.Polypeptide import three_to_one\n",
    "from Bio.SVDSuperimposer import SVDSuperimposer\n",
    "from Bio.PDB.Structure import Structure\n",
    "\n",
    "AA = [\"ALA\", \"CYS\", \"ASP\", \"GLU\", \"PHE\", \"GLY\", \"HIS\", \"ILE\", \"LYS\", \"LEU\", \"MET\", \"ASN\", \"PRO\", \"GLN\",\n",
    "      \"ARG\", \"SER\", \"THR\", \"VAL\", \"TRP\", \"TYR\"]\n",
    "\n",
    "# Type functions because it's helpful.\n",
    "def align(native: Structure, model: Structure, atom_types = [\"CA\", \"N\", \"C\", \"O\"]) -> SVDSuperimposer:\n",
    "    \"\"\"\n",
    "    Aligns a model structure onto a native structure\n",
    "    Using the atom types listed in `atom_types`.\n",
    "    \"\"\"\n",
    "    \n",
    "    # A long one-liner that gets the one-letter amino acid representation for each residue in a structure,\n",
    "    # then joins those letters into one long string.\n",
    "    native_seq = \"\".join([ three_to_one(r.resname) for r in native[0].get_residues() if r.resname in AA ])\n",
    "    model_seq = \"\".join([ three_to_one(r.resname) for r in model[0].get_residues() if r.resname in AA ])\n",
    "\n",
    "    ## Some assertions that can be used\n",
    "    # assert model_seq in native_seq, \"There should be an alignable sequence.\"\n",
    "    assert len(model_seq) == len(native_seq), \"The sequences should be of identical length.\"\n",
    "    \n",
    "    # Get the coordinates of the Atom object if the Atom is from an amino acid residue,\n",
    "    # and the atom type is what's specified in atom_types.\n",
    "    # Traditionally RMSD is calculated for either:\n",
    "    # Only the alpha-carbon atoms (CA), or\n",
    "    # The \"protein backbone\" atoms (CA, N, C, O), or\n",
    "    # All atoms\n",
    "    native_coords = [ a.coord for a in native[0].get_atoms() if a.parent.resname in AA and a.name in atom_types ]\n",
    "    model_coords = [ a.coord for a in model[0].get_atoms() if a.parent.resname in AA and a.name in atom_types ]\n",
    "    \n",
    "    si = SVDSuperimposer()\n",
    "    si.set(np.array(native_coords), np.array(model_coords))\n",
    "    si.run() # Run the SVD alignment\n",
    "    \n",
    "    return si"
   ]
  },
  {
   "cell_type": "code",
   "execution_count": 4,
   "metadata": {},
   "outputs": [
    {
     "name": "stdout",
     "output_type": "stream",
     "text": [
      "Initial RMSD: 35.26 angstroms; full-backbone RMSD after alignment: 0.84 angstroms\n"
     ]
    }
   ],
   "source": [
    "si = align(native, model)\n",
    "print(\"Initial RMSD: {:.2f} angstroms; full-backbone RMSD after alignment: {:.2f} angstroms\".format(si.get_init_rms(), si.get_rms()))"
   ]
  },
  {
   "cell_type": "markdown",
   "metadata": {},
   "source": [
    "We can see above that aligning two protein structures prior to calculating the RMSD can have a huge effect on the RMSD value. For some, this might seem like a bit of a cheat: we aligned the structure to _minimise_ RMSD, so obviously this is bound to happen! \n",
    "\n",
    "While that's true, we have to account for the fact that protein structures are often not standardised to a specific region of the coordinate space, and so this is a necessary process to avoid over-penalisation. Furthermore, it's always possible to align one region of a protein to then measure the RMSD of another region. This is an approach that was used by the [Antibody modelling assessment (AMA)](https://www.ncbi.nlm.nih.gov/pubmed/24668560) to calculate the RMSD of specific loops of antibodies.\n",
    "\n",
    "In fact, we can do something broadly similar; we can _align_ using half of the atoms, but then calculate the RMSD of the full protein:"
   ]
  },
  {
   "cell_type": "code",
   "execution_count": 5,
   "metadata": {},
   "outputs": [],
   "source": [
    "def rmsd(native_coords, model_coords, rot, tran):\n",
    "    model_coords_rotated = np.dot(model_coords, rot) + tran\n",
    "    diff = native_coords - model_coords_rotated\n",
    "    RMSD = np.sqrt(sum(sum(diff**2))/native_coords.shape[0])\n",
    "    return RMSD\n",
    "\n",
    "def specific_align(native: Structure, model: Structure, \n",
    "          aln_atoms = 0.5,\n",
    "          atom_types = [\"CA\", \"N\", \"C\", \"O\"]) -> list:\n",
    "    \n",
    "    # A long one-liner that gets the one-letter amino acid representation for each residue in a structure,\n",
    "    # then joins those letters into one long string.\n",
    "    native_seq = \"\".join([ three_to_one(r.resname) for r in native[0].get_residues() if r.resname in AA ])\n",
    "    model_seq = \"\".join([ three_to_one(r.resname) for r in model[0].get_residues() if r.resname in AA ])\n",
    "    \n",
    "    assert len(model_seq) == len(native_seq), \"The sequences should be of identical length.\"\n",
    "    \n",
    "    # Get the atoms that we want to align\n",
    "    native_coords = [ a.coord for a in native[0].get_atoms() if a.parent.resname in AA and a.name in atom_types ]\n",
    "    model_coords = [ a.coord for a in model[0].get_atoms() if a.parent.resname in AA and a.name in atom_types ]\n",
    "\n",
    "    # Convert to numpy arrays\n",
    "    native_coords = np.array(native_coords)\n",
    "    model_coords = np.array(model_coords)\n",
    "    \n",
    "    # Use a specific percentage of atoms to align.\n",
    "    percentage_to_aln = int(aln_atoms * len(native_coords))\n",
    "    \n",
    "    si = SVDSuperimposer()\n",
    "    si.set(native_coords[:percentage_to_aln], model_coords[:percentage_to_aln])\n",
    "    si.run()\n",
    "    \n",
    "    # The SVD superimposer above gives us the rotation and translation matrices\n",
    "    # that we can use to \"transform\" the model coordinates. The rotation and translation\n",
    "    # matrices were based on aligning 50% of the backbone atoms. I will explain this a bit more later.\n",
    "    RMSD = rmsd(native_coords, model_coords, si.rot, si.tran)\n",
    "    \n",
    "    return [si, RMSD]"
   ]
  },
  {
   "cell_type": "code",
   "execution_count": 6,
   "metadata": {},
   "outputs": [
    {
     "name": "stdout",
     "output_type": "stream",
     "text": [
      "The initial RMSD is 30.11, with a 50% aligned backbone RMSD of 0.40 and a full backbone RMSD of 1.47\n"
     ]
    }
   ],
   "source": [
    "si_specific, rmsd_bb = specific_align(native, model)\n",
    "print(\"The initial RMSD is {:.2f}, with a 50% aligned backbone RMSD of {:.2f} and a full backbone RMSD of {:.2f}\".format(\n",
    "    si_specific.get_init_rms(), si_specific.get_rms(), rmsd_bb))"
   ]
  },
  {
   "cell_type": "markdown",
   "metadata": {},
   "source": [
    "So there are a couple of observations to be made here:\n",
    "* The initial and 50%-aligned RMSD values are lower, but these are _not_ comparable to the previous experiment. This is because we were calculating the distance over 50% of the backbone atoms, rather than the complete set. Essentially, the previous experiment is more likely to have a higher RMSD because there can be more anomalous atom coordinates that throw off the RMSD value.\n",
    "* The full backbone RMSD is what's comparable to the previous experiment. The difference is an RMSD of 0.84A when we align _all_ backbone atoms vs. 1.47A for when we align _half_ of the backbone atoms, but **still** calculate the distance across all backbone atoms. We can thus see that the alignment can have a huge impact on the reported RMSD.\n",
    "\n",
    "The magical element in all of this is the **SVD**. If you want to stop here, the above code is a basic way to calculate RMSD using BioPython. Otherwise, continue!"
   ]
  },
  {
   "cell_type": "markdown",
   "metadata": {},
   "source": [
    "## Manually Calculating RMSD / What on earth is SVD?\n",
    "\n",
    "![svd](svd.png)\n",
    "\n",
    "Essentially, it decomposes a $m\\times n$ matrix $M$ into three matrices:\n",
    "* A $m \\times n$ matrix $\\Sigma$ whose diagonal contains the _square-root of the eigenvalue_ of $\\mathbf{MM^{*}}$\n",
    "* A $m\\times m$ matrix _U_ whose columns are the eigenvectors of $\\mathbf{MM^{*}}$\n",
    "* A $n\\times n$ matrix _V*_ whose columns are the eigenvectors of $\\mathbf{M^{*}M}$\n",
    "\n",
    "I won't go into the details of _how_ SVD is run (outside the scope of this post).\n",
    "\n",
    "Remember from a [previous post](\"\") that a vector $v$ is an **eigenvector** if it satisfies $Mv = \\lambda v$, i.e., $v$ only changes by a scalar factor $\\lambda$ when it is transformed by $M$. In practice, this means that $v$ captures the _direction_ of the transformation of $M$.\n",
    "\n",
    "In the context of the work here, we use SVD to find the rotation and translation matrices that aligns the model protein structure onto the native one.\n",
    "\n",
    "For ease of notation, the set of $n \\times 3$ coordinates from the model structure will be known as $P$ while the set of $n \\times 3$ coordinates from the native structure will be denoted as $Q$.\n",
    "\n",
    "The entire procedure for aligning protein structures using SVD is as follows:\n",
    "1. \"Centre\" the structures by the centroids $C_P$ and $C_Q$: $P_m = P-C_P$ and $Q_m = Q-C_Q$\n",
    "2. Obtain the covariance matrix $W = Q_m^TP_m$\n",
    "3. Run SVD on $W$ to obtain $U, \\Sigma, V^*$\n",
    "4. Compute the (possible) rotation matrix $R = (VU^T)$.\n",
    "> If the determinant of $R$ is negative, then flip the sign of $V_z$ to keep it in the right-hand coordinate system; otherwise, we're good.\n",
    "5. The translation matrix $T = C_Q - C_PR$."
   ]
  },
  {
   "cell_type": "code",
   "execution_count": 7,
   "metadata": {},
   "outputs": [],
   "source": [
    "# Function to get rotation and translation matrices\n",
    "def get_rot_tran(coord_true, coord_pred):\n",
    "    \"\"\"\n",
    "    Given two matrices, return a rotation and translation matrix\n",
    "    \n",
    "    \"\"\"\n",
    "    centroid_pred = np.sum(coord_pred, axis=0) / coord_pred.shape[0]\n",
    "    centroid_true = np.sum(coord_true, axis=0) / coord_true.shape[0]\n",
    "    \n",
    "    p_prime = coord_pred - centroid_pred\n",
    "    q_prime = coord_true - centroid_true\n",
    "    \n",
    "    W = np.dot(q_prime.T, p_prime)\n",
    "    U, S, Vt = np.linalg.svd(W)\n",
    "    \n",
    "    V = Vt.T\n",
    "    \n",
    "    rot = np.dot(V, U.T)\n",
    "    det = np.linalg.det(rot)\n",
    "    \n",
    "    # The determinant is needed to detect whether we need a right-hand coordinate system or not\n",
    "    # This basically means we just have to flip the Z-axis\n",
    "    if det < 0:\n",
    "        Vt[2] = -Vt[2]\n",
    "        V = Vt.T\n",
    "        rot = np.dot(V, U.T)\n",
    "        \n",
    "    tran = centroid_true - np.dot(centroid_pred, rot)\n",
    "    return rot, tran\n",
    "\n",
    "def get_specific_atoms(structure, atom_types = [\"CA\", \"N\", \"C\", \"O\"]):\n",
    "    \"\"\"\n",
    "    Get atom coordinates of a Structure object for specified atom types\n",
    "    \"\"\"\n",
    "    return np.array([a.coord for a in structure.get_atoms() if a.parent.resname in AA and a.name in atom_types ])"
   ]
  },
  {
   "cell_type": "code",
   "execution_count": 8,
   "metadata": {},
   "outputs": [],
   "source": [
    "# Let's run this and compare with the BioPython superimposer\n",
    "native_backbone = get_specific_atoms(native)\n",
    "model_backbone  = get_specific_atoms(model)\n",
    "\n",
    "rot, tran = get_rot_tran(native_backbone, model_backbone)\n",
    "si = SVDSuperimposer()\n",
    "si.set(native_backbone, model_backbone)\n",
    "si.run()"
   ]
  },
  {
   "cell_type": "markdown",
   "metadata": {},
   "source": [
    "Once we have the rotation and translation matrices, the calculation of RMSD is then:"
   ]
  },
  {
   "cell_type": "code",
   "execution_count": 9,
   "metadata": {},
   "outputs": [
    {
     "data": {
      "text/plain": [
       "0.836309515402226"
      ]
     },
     "execution_count": 9,
     "metadata": {},
     "output_type": "execute_result"
    }
   ],
   "source": [
    "rmsd(native_backbone, model_backbone, rot, tran)"
   ]
  },
  {
   "cell_type": "code",
   "execution_count": 10,
   "metadata": {},
   "outputs": [
    {
     "data": {
      "text/plain": [
       "0.836309515402226"
      ]
     },
     "execution_count": 10,
     "metadata": {},
     "output_type": "execute_result"
    }
   ],
   "source": [
    "si.get_rms()"
   ]
  },
  {
   "cell_type": "markdown",
   "metadata": {},
   "source": [
    "Voila!"
   ]
  }
 ],
 "metadata": {
  "kernelspec": {
   "display_name": "Python 3",
   "language": "python",
   "name": "python3"
  },
  "language_info": {
   "codemirror_mode": {
    "name": "ipython",
    "version": 3
   },
   "file_extension": ".py",
   "mimetype": "text/x-python",
   "name": "python",
   "nbconvert_exporter": "python",
   "pygments_lexer": "ipython3",
   "version": "3.7.3"
  }
 },
 "nbformat": 4,
 "nbformat_minor": 2
}

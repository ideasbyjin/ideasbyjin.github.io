{
 "cells": [
  {
   "cell_type": "markdown",
   "metadata": {},
   "source": [
    "In a [previous post](), I covered arguably one of the most straight-forward clustering algorithms: hierarchical clustering. Remember that any clustering method requires a **distance metric** to quantify how \"far apart\" two points are placed in some N-dimensional space. While typically Euclidean, there's loads of ways in doing this.\n",
    "\n",
    "Generally, hierarchical clustering is a very good way of clustering your data, though it suffers from a couple of limitations:\n",
    "* Users have to define the number of clusters\n",
    "* The linkage criterion (UPGMA, Ward...) can have a huge effect on the cluster shapes\n",
    "\n",
    "Other clustering methods like K-means clustering also depend on the number of clusters to be determined beforehand, and it can be prone to hitting local minima. \n",
    "\n",
    "In theory, no clustering method is perfect, as it is very much dependent on the shape of your data and use case. This diagram from Scikit-learn shows us exactly that:\n",
    "\n",
    "![Clustering](https://scikit-learn.org/stable/_images/sphx_glr_plot_cluster_comparison_0011.png)\n",
    "\n",
    "However, if I had to pick one clustering algorithm for any dataset, it would have to be DBSCAN (Density-based spatial clustering of applications with noise). Cheeky plug: I've written a paper on [using it for clustering protein structures](https://www.frontiersin.org/articles/10.3389/fimmu.2019.02454/abstract). Essentially, DBSCAN wins the \"clustering trophy\" for three reasons:\n",
    "* It's very intuitive to understand\n",
    "* It's very scalable\n",
    "* It requires a distance parameter rather than the number of clusters\n",
    "\n",
    "\n",
    "If you have...\n",
    "* **30 seconds** DBSCAN  essentially requires a user to determine a distance parameter, $\\epsilon$.\n",
    "$$P_i = \\begin{cases} \\text{Core} & \\text{if}\\ (\\sum_{j=1, j\\neq i}^{n} \\mathbb{1}(d_{P_i, P_j} \\leq \\epsilon)) \\geq m \\\\\n",
    "\\text{Reachable} & \\text{if}\\ 0 < (\\sum_{j=1, j\\neq i}^{n} \\mathbb{1}(d_{P_i, P_j} \\leq \\epsilon)) < m \\\\\n",
    "\\text{Outlier} & \\text{Otherwise.}\n",
    "\\end{cases}\n",
    "$$ The combinaiton of core and reachable points form a cluster, while outliers are... outliers.\n",
    "* **7 minutes** Read below."
   ]
  },
  {
   "cell_type": "markdown",
   "metadata": {},
   "source": [
    "To run DBSCAN, we first define some distance threshold, $\\epsilon$, and the minimum number of points, $m$, we need to form a cluster. Notice the slight difference to how we parameterise hierarchical clustering methods; instead of having a declaration such as\n",
    "> I expect my dataset to have 10 clusters from 1000 points.\n",
    "\n",
    "This is more analogous to saying\n",
    "> I expect my dataset of 1000 points to form bunches that are, at most, $\\epsilon$ apart.\n",
    "\n",
    "If you like LateX/equations, the _i_th point of a dataset, $P_i$, can be designated one of three things:\n",
    "$$P_i = \\begin{cases} \\text{Core} & \\text{if}\\ (\\sum_{j=1}^{n} \\mathbb{1}(d_{P_i, P_j} \\leq \\epsilon)) \\geq m \\\\\n",
    "\\text{Reachable} & \\text{if}\\ 0 < (\\sum_{j=1}^{n} \\mathbb{1}(d_{P_i, P_j} \\leq \\epsilon)) < m \\\\\n",
    "\\text{Outlier} & \\text{Otherwise.}\n",
    "\\end{cases}\n",
    "$$ \n",
    "\n",
    "One of the most helpful ways of understanding DBSCAN is using this diagram from Wikipedia:\n",
    "\n",
    "![image](https://upload.wikimedia.org/wikipedia/commons/thumb/a/af/DBSCAN-Illustration.svg/800px-DBSCAN-Illustration.svg.png)"
   ]
  },
  {
   "cell_type": "markdown",
   "metadata": {},
   "source": [
    "Suppose we had a minimum of 4 ($m=4$). Then, \n",
    "* The red points are _core points_. For every red point, we see that, including itself, there are at least 4 red points within $\\epsilon$ (illustrated by the double-sided arrow). However, \n",
    "* The two yellow points are only \"reachable\" as there's less than $m$ points within $\\epsilon$ (including itself). Hence the yellow points are not core points. \n",
    "* And of course, the blue point is just a chillin' outlier.\n",
    "\n",
    "The combination of red and yellow points form a cluster! We repeat this process for every point in our dataset, and we're done. Now let's run some code."
   ]
  },
  {
   "cell_type": "markdown",
   "metadata": {},
   "source": [
    "## Data Acquisition and Cleaning"
   ]
  },
  {
   "cell_type": "code",
   "execution_count": 1,
   "metadata": {},
   "outputs": [],
   "source": [
    "# Import stuff\n",
    "import pandas as pd\n",
    "from sklearn.cluster import DBSCAN\n",
    "import numpy as np"
   ]
  },
  {
   "cell_type": "markdown",
   "metadata": {},
   "source": [
    "For this blog post, I am going to ingest a huge dataset of gene expression data from [GTEx](https://gtexportal.org/home/datasets). The GTEx portal is a really [interesting resource](https://www.nature.com/articles/nature24277), which describes how genes are differentially expressed in specific tissues. This can be measured by a quantity known as TPM (Transcripts per million). The data itself was acquired by RNA sequencing from post-mortem samples. There's data, and metadata we could use, but for simplicity let's stick to using only the TPM data, and ignore the metadata completely (though it could be useful for informing our clustering strategy).\n",
    "\n",
    "Since the file from GTEx is pretty big, we're going to `stream` it and use some clever tricks! "
   ]
  },
  {
   "cell_type": "code",
   "execution_count": 2,
   "metadata": {},
   "outputs": [],
   "source": [
    "import gzip\n",
    "import urllib\n",
    "import io\n",
    "\n",
    "# Let's stream the data\n",
    "URL = \"https://storage.googleapis.com/gtex_analysis_v8/rna_seq_data/GTEx_Analysis_2017-06-05_v8_RNASeQCv1.1.9_gene_tpm.gct.gz\"\n",
    "urlHandle = urllib.request.urlopen(URL)\n",
    "\n",
    "# Create a Gzipped File handle - this allows line-by-line iteration\n",
    "fh = gzip.GzipFile(fileobj=urlHandle)"
   ]
  },
  {
   "cell_type": "markdown",
   "metadata": {},
   "source": [
    "Having dealt with GCT files before, with a [weird format](https://software.broadinstitute.org/cancer/software/gsea/wiki/index.php/Data_formats), we need to skip the first line, but the second line onward has some useful information."
   ]
  },
  {
   "cell_type": "code",
   "execution_count": 3,
   "metadata": {},
   "outputs": [],
   "source": [
    "fh.readline() # skip first line\n",
    "dimensions = fh.readline().split()"
   ]
  },
  {
   "cell_type": "code",
   "execution_count": 4,
   "metadata": {},
   "outputs": [
    {
     "data": {
      "text/plain": [
       "[56200, 17382]"
      ]
     },
     "execution_count": 4,
     "metadata": {},
     "output_type": "execute_result"
    }
   ],
   "source": [
    "[int(x) for x in dimensions]"
   ]
  },
  {
   "cell_type": "markdown",
   "metadata": {},
   "source": [
    "The GCT file format is interesting because it tells us the dimensions of the file; there are 56200 genes and 17382 samples. That's a lot of genes to work with; not to mention quite a few samples, too. This of course means there are 56200 rows and 17382 columns, which could be pretty cumbersome for a laptop to handle. Not to mention downloading the entire thing all at once _before_ we do anything else. \n",
    "\n",
    "To trim it down a bit, let's see what these samples are, first:"
   ]
  },
  {
   "cell_type": "code",
   "execution_count": 5,
   "metadata": {},
   "outputs": [],
   "source": [
    "DECODE_CODEC = 'utf-8'\n",
    "\n",
    "def stream_request(url):\n",
    "    \"\"\"\n",
    "    Open a connection to some url, then stream data from it\n",
    "    This has the advantage of:\n",
    "    A. We don't have to wait for the entire file to download to do operations\n",
    "    B. We can perform some operations on-the-fly\n",
    "    \"\"\"\n",
    "    fh = urllib.request.urlopen(url)\n",
    "    buffer = io.StringIO()\n",
    "    \n",
    "    for line in fh:\n",
    "        decoded = line.decode(DECODE_CODEC)\n",
    "        buffer.write(decoded)\n",
    "    \n",
    "    # Reset the StringIO buffer to byte position 0\n",
    "    buffer.seek(0)\n",
    "    return buffer\n",
    "    \n",
    "def stream_request_to_pandas(url: str, sep: str = '\\t') -> pd.DataFrame:\n",
    "    streamed_buffer = stream_request(url)\n",
    "    return pd.read_csv(streamed_buffer, sep = sep)"
   ]
  },
  {
   "cell_type": "code",
   "execution_count": 6,
   "metadata": {},
   "outputs": [],
   "source": [
    "sampleUrl = \"https://storage.googleapis.com/gtex_analysis_v8/annotations/GTEx_Analysis_v8_Annotations_SampleAttributesDS.txt\"\n",
    "sample_df = stream_request_to_pandas(sampleUrl)"
   ]
  },
  {
   "cell_type": "code",
   "execution_count": 7,
   "metadata": {},
   "outputs": [
    {
     "data": {
      "text/html": [
       "<div>\n",
       "<style scoped>\n",
       "    .dataframe tbody tr th:only-of-type {\n",
       "        vertical-align: middle;\n",
       "    }\n",
       "\n",
       "    .dataframe tbody tr th {\n",
       "        vertical-align: top;\n",
       "    }\n",
       "\n",
       "    .dataframe thead th {\n",
       "        text-align: right;\n",
       "    }\n",
       "</style>\n",
       "<table border=\"1\" class=\"dataframe\">\n",
       "  <thead>\n",
       "    <tr style=\"text-align: right;\">\n",
       "      <th></th>\n",
       "      <th>SAMPID</th>\n",
       "      <th>SMATSSCR</th>\n",
       "      <th>SMCENTER</th>\n",
       "      <th>SMPTHNTS</th>\n",
       "      <th>SMRIN</th>\n",
       "      <th>SMTS</th>\n",
       "      <th>SMTSD</th>\n",
       "      <th>SMUBRID</th>\n",
       "      <th>SMTSISCH</th>\n",
       "      <th>SMTSPAX</th>\n",
       "    </tr>\n",
       "  </thead>\n",
       "  <tbody>\n",
       "    <tr>\n",
       "      <td>34</td>\n",
       "      <td>GTEX-111CU-1426-SM-5GZYP</td>\n",
       "      <td>1.0</td>\n",
       "      <td>B1</td>\n",
       "      <td>6 pieces, predominantly mucosa and submucosa w...</td>\n",
       "      <td>7.8</td>\n",
       "      <td>Colon</td>\n",
       "      <td>Colon - Transverse</td>\n",
       "      <td>0001157</td>\n",
       "      <td>100.0</td>\n",
       "      <td>609.0</td>\n",
       "    </tr>\n",
       "    <tr>\n",
       "      <td>390</td>\n",
       "      <td>GTEX-11DXZ-1926-SM-5GZZL</td>\n",
       "      <td>0.0</td>\n",
       "      <td>B1</td>\n",
       "      <td>4 pieces, predominantly fat with ~10-20% fibro...</td>\n",
       "      <td>7.7</td>\n",
       "      <td>Breast</td>\n",
       "      <td>Breast - Mammary Tissue</td>\n",
       "      <td>0008367</td>\n",
       "      <td>318.0</td>\n",
       "      <td>883.0</td>\n",
       "    </tr>\n",
       "    <tr>\n",
       "      <td>562</td>\n",
       "      <td>GTEX-11EQ9-1126-SM-5987I</td>\n",
       "      <td>1.0</td>\n",
       "      <td>B1</td>\n",
       "      <td>2 pieces, !0% fibrovascular tissue, delineated</td>\n",
       "      <td>7.8</td>\n",
       "      <td>Adipose Tissue</td>\n",
       "      <td>Adipose - Visceral (Omentum)</td>\n",
       "      <td>0010414</td>\n",
       "      <td>105.0</td>\n",
       "      <td>594.0</td>\n",
       "    </tr>\n",
       "    <tr>\n",
       "      <td>506</td>\n",
       "      <td>GTEX-11EMC-0008-SM-5Q5DR</td>\n",
       "      <td>NaN</td>\n",
       "      <td>B1</td>\n",
       "      <td>NaN</td>\n",
       "      <td>10.0</td>\n",
       "      <td>Skin</td>\n",
       "      <td>Cells - Cultured fibroblasts</td>\n",
       "      <td>EFO_0002009</td>\n",
       "      <td>809.0</td>\n",
       "      <td>NaN</td>\n",
       "    </tr>\n",
       "  </tbody>\n",
       "</table>\n",
       "</div>"
      ],
      "text/plain": [
       "                       SAMPID  SMATSSCR SMCENTER  \\\n",
       "34   GTEX-111CU-1426-SM-5GZYP       1.0       B1   \n",
       "390  GTEX-11DXZ-1926-SM-5GZZL       0.0       B1   \n",
       "562  GTEX-11EQ9-1126-SM-5987I       1.0       B1   \n",
       "506  GTEX-11EMC-0008-SM-5Q5DR       NaN       B1   \n",
       "\n",
       "                                              SMPTHNTS  SMRIN            SMTS  \\\n",
       "34   6 pieces, predominantly mucosa and submucosa w...    7.8           Colon   \n",
       "390  4 pieces, predominantly fat with ~10-20% fibro...    7.7          Breast   \n",
       "562     2 pieces, !0% fibrovascular tissue, delineated    7.8  Adipose Tissue   \n",
       "506                                                NaN   10.0            Skin   \n",
       "\n",
       "                            SMTSD      SMUBRID  SMTSISCH  SMTSPAX  \n",
       "34             Colon - Transverse      0001157     100.0    609.0  \n",
       "390       Breast - Mammary Tissue      0008367     318.0    883.0  \n",
       "562  Adipose - Visceral (Omentum)      0010414     105.0    594.0  \n",
       "506  Cells - Cultured fibroblasts  EFO_0002009     809.0      NaN  "
      ]
     },
     "execution_count": 7,
     "metadata": {},
     "output_type": "execute_result"
    }
   ],
   "source": [
    "# Just get a random 4 rows and the first 10 columns\n",
    "sample_df.iloc[np.random.randint(0, 1000, 4)][sample_df.columns[:10]]"
   ]
  },
  {
   "cell_type": "markdown",
   "metadata": {},
   "source": [
    "For sake of argument, I'm only going to get samples where the source was Blood, Blood Vessel, and Hear (`SMTS == Blood Vessel|Blood|Heart`)."
   ]
  },
  {
   "cell_type": "code",
   "execution_count": 8,
   "metadata": {},
   "outputs": [],
   "source": [
    "tissues_of_interest = sample_df[sample_df['SMTS'].isin(['Blood', 'Blood Vessel', 'Heart'])]\n",
    "relevant_samples = tissues_of_interest['SAMPID'].values"
   ]
  },
  {
   "cell_type": "code",
   "execution_count": 9,
   "metadata": {},
   "outputs": [],
   "source": [
    "# This will be useful later, trust me!\n",
    "# This is a dictionary of sample ID -> tissue location\n",
    "sample_id_to_smts = dict(tissues_of_interest[['SAMPID','SMTS']].values)\n",
    "sample_id_to_smtsd = dict(tissues_of_interest[['SAMPID','SMTSD']].values)"
   ]
  },
  {
   "cell_type": "markdown",
   "metadata": {},
   "source": [
    "Furthermore, I am only going to read the rows of data that have protein-coding genes."
   ]
  },
  {
   "cell_type": "code",
   "execution_count": 10,
   "metadata": {},
   "outputs": [],
   "source": [
    "geneUrl = \"https://www.genenames.org/cgi-bin/download/custom?col=gd_app_sym&col=gd_pub_ensembl_id&status=Approved&hgnc_dbtag=on&order_by=gd_app_sym_sort&format=text&where=(gd_pub_chrom_map%20not%20like%20%27%25patch%25%27%20and%20gd_pub_chrom_map%20not%20like%20%27%25alternate%20reference%20locus%25%27)%0Aand%20gd_locus_type%20=%20%27gene%20with%20protein%20product%27&submit=submit\"\n",
    "gene_df = stream_request_to_pandas(geneUrl)"
   ]
  },
  {
   "cell_type": "code",
   "execution_count": 11,
   "metadata": {},
   "outputs": [],
   "source": [
    "# Let's get the Ensembl Gene IDs of things that are protein-coding\n",
    "gene_ensembl = gene_df[~pd.isnull(gene_df['Ensembl gene ID'])]['Ensembl gene ID'].values"
   ]
  },
  {
   "cell_type": "markdown",
   "metadata": {},
   "source": [
    "OK. Now that we have:\n",
    "* Protein coding genes, and\n",
    "* Sample IDs that mark whether samples are from blood, heart, or blood vessel...\n",
    "\n",
    "We can extract what we want!"
   ]
  },
  {
   "cell_type": "code",
   "execution_count": 12,
   "metadata": {},
   "outputs": [],
   "source": [
    "# From that big GTEx file, let's get the column names\n",
    "header = fh.readline().decode(\"utf-8\").split('\\t')\n",
    "\n",
    "# Find out what columns (in terms of indices) these samples correspond to.\n",
    "# We want 0 and 1 by default because they are the Ensembl gene ID and Gene name\n",
    "header_indices = [0,1] + [ ix for ix, val in enumerate(header) if val in relevant_samples ]\n",
    "\n",
    "# Use numpy arrays because then we can use multiple integers for indexing!\n",
    "dataframe_columns = np.array(header)[header_indices]"
   ]
  },
  {
   "cell_type": "code",
   "execution_count": 13,
   "metadata": {},
   "outputs": [
    {
     "data": {
      "application/vnd.jupyter.widget-view+json": {
       "model_id": "a96a481394f34ecb9f5a5592097a2abf",
       "version_major": 2,
       "version_minor": 0
      },
      "text/plain": [
       "HBox(children=(IntProgress(value=1, bar_style='info', max=1), HTML(value='')))"
      ]
     },
     "metadata": {},
     "output_type": "display_data"
    },
    {
     "name": "stdout",
     "output_type": "stream",
     "text": [
      "\n"
     ]
    }
   ],
   "source": [
    "from tqdm.notebook import tqdm # nice little progress bar\n",
    "\n",
    "data = []\n",
    "ENSEMBL_LENGTH = 15 # obtained from gene_ensembl\n",
    "\n",
    "for line in tqdm(fh):    \n",
    "    strline = line.decode('utf-8')\n",
    "    if strline[:ENSEMBL_LENGTH] in gene_ensembl:\n",
    "        tokens = np.array(strline.split('\\t'))\n",
    "        data.append(tokens[header_indices])"
   ]
  },
  {
   "cell_type": "code",
   "execution_count": 14,
   "metadata": {},
   "outputs": [],
   "source": [
    "# Create a pandas data-frame with our data\n",
    "expression = pd.DataFrame(data, columns = dataframe_columns)"
   ]
  },
  {
   "cell_type": "code",
   "execution_count": 15,
   "metadata": {},
   "outputs": [
    {
     "data": {
      "text/html": [
       "<div>\n",
       "<style scoped>\n",
       "    .dataframe tbody tr th:only-of-type {\n",
       "        vertical-align: middle;\n",
       "    }\n",
       "\n",
       "    .dataframe tbody tr th {\n",
       "        vertical-align: top;\n",
       "    }\n",
       "\n",
       "    .dataframe thead th {\n",
       "        text-align: right;\n",
       "    }\n",
       "</style>\n",
       "<table border=\"1\" class=\"dataframe\">\n",
       "  <thead>\n",
       "    <tr style=\"text-align: right;\">\n",
       "      <th></th>\n",
       "      <th>Name</th>\n",
       "      <th>Description</th>\n",
       "      <th>GTEX-1117F-0526-SM-5EGHJ</th>\n",
       "      <th>GTEX-1117F-0626-SM-5N9CS</th>\n",
       "      <th>GTEX-1117F-0726-SM-5GIEN</th>\n",
       "      <th>GTEX-111FC-0426-SM-5N9CV</th>\n",
       "      <th>GTEX-111FC-0626-SM-5N9CU</th>\n",
       "      <th>GTEX-111FC-0826-SM-5GZWO</th>\n",
       "      <th>GTEX-111VG-0326-SM-5GZX7</th>\n",
       "      <th>GTEX-111YS-0006-SM-5NQBE</th>\n",
       "      <th>...</th>\n",
       "      <th>GTEX-ZYW4-0926-SM-59HJS</th>\n",
       "      <th>GTEX-ZYW4-1226-SM-5E45B</th>\n",
       "      <th>GTEX-ZYY3-1226-SM-5EQKM</th>\n",
       "      <th>GTEX-ZZ64-1326-SM-5E444</th>\n",
       "      <th>GTEX-ZZPT-0926-SM-5GICZ</th>\n",
       "      <th>GTEX-ZZPU-0226-SM-5N9BV</th>\n",
       "      <th>GTEX-ZZPU-0926-SM-5GZYT</th>\n",
       "      <th>GTEX-ZZPU-1026-SM-5E457</th>\n",
       "      <th>GTEX-ZZPU-1126-SM-5N9CW</th>\n",
       "      <th>GTEX-ZZPU-2426-SM-5E44I</th>\n",
       "    </tr>\n",
       "  </thead>\n",
       "  <tbody>\n",
       "    <tr>\n",
       "      <td>89</td>\n",
       "      <td>ENSG00000171680.21</td>\n",
       "      <td>PLEKHG5</td>\n",
       "      <td>5.088</td>\n",
       "      <td>17.82</td>\n",
       "      <td>7.634</td>\n",
       "      <td>7.388</td>\n",
       "      <td>13.87</td>\n",
       "      <td>10.71</td>\n",
       "      <td>7.467</td>\n",
       "      <td>0.1476</td>\n",
       "      <td>...</td>\n",
       "      <td>5.941</td>\n",
       "      <td>8.948</td>\n",
       "      <td>9.802</td>\n",
       "      <td>2.254</td>\n",
       "      <td>4.893</td>\n",
       "      <td>26.05</td>\n",
       "      <td>9.067</td>\n",
       "      <td>15.91</td>\n",
       "      <td>5.677</td>\n",
       "      <td>2.25</td>\n",
       "    </tr>\n",
       "    <tr>\n",
       "      <td>49</td>\n",
       "      <td>ENSG00000187730.8</td>\n",
       "      <td>GABRD</td>\n",
       "      <td>0.8109</td>\n",
       "      <td>3.613</td>\n",
       "      <td>7.357</td>\n",
       "      <td>1.212</td>\n",
       "      <td>0.4054</td>\n",
       "      <td>0.2379</td>\n",
       "      <td>0.5227</td>\n",
       "      <td>0</td>\n",
       "      <td>...</td>\n",
       "      <td>0.3053</td>\n",
       "      <td>0.3506</td>\n",
       "      <td>0.6624</td>\n",
       "      <td>0.08878</td>\n",
       "      <td>0.2648</td>\n",
       "      <td>0.569</td>\n",
       "      <td>0.2708</td>\n",
       "      <td>2.359</td>\n",
       "      <td>0.227</td>\n",
       "      <td>0</td>\n",
       "    </tr>\n",
       "    <tr>\n",
       "      <td>375</td>\n",
       "      <td>ENSG00000009780.15</td>\n",
       "      <td>FAM76A</td>\n",
       "      <td>17.9</td>\n",
       "      <td>15.63</td>\n",
       "      <td>3.554</td>\n",
       "      <td>12.57</td>\n",
       "      <td>9.711</td>\n",
       "      <td>5.01</td>\n",
       "      <td>4.13</td>\n",
       "      <td>1.647</td>\n",
       "      <td>...</td>\n",
       "      <td>3.287</td>\n",
       "      <td>10.82</td>\n",
       "      <td>8.789</td>\n",
       "      <td>7.545</td>\n",
       "      <td>4.966</td>\n",
       "      <td>10.32</td>\n",
       "      <td>4.235</td>\n",
       "      <td>6.512</td>\n",
       "      <td>5.418</td>\n",
       "      <td>10.1</td>\n",
       "    </tr>\n",
       "    <tr>\n",
       "      <td>486</td>\n",
       "      <td>ENSG00000116898.11</td>\n",
       "      <td>MRPS15</td>\n",
       "      <td>22.21</td>\n",
       "      <td>35.78</td>\n",
       "      <td>19.51</td>\n",
       "      <td>34.85</td>\n",
       "      <td>43.69</td>\n",
       "      <td>38.74</td>\n",
       "      <td>26.54</td>\n",
       "      <td>14.47</td>\n",
       "      <td>...</td>\n",
       "      <td>17.62</td>\n",
       "      <td>31.83</td>\n",
       "      <td>28.45</td>\n",
       "      <td>41.58</td>\n",
       "      <td>28.96</td>\n",
       "      <td>34.51</td>\n",
       "      <td>36.19</td>\n",
       "      <td>31.35</td>\n",
       "      <td>33.63</td>\n",
       "      <td>34.51</td>\n",
       "    </tr>\n",
       "  </tbody>\n",
       "</table>\n",
       "<p>4 rows × 3127 columns</p>\n",
       "</div>"
      ],
      "text/plain": [
       "                   Name Description GTEX-1117F-0526-SM-5EGHJ  \\\n",
       "89   ENSG00000171680.21     PLEKHG5                    5.088   \n",
       "49    ENSG00000187730.8       GABRD                   0.8109   \n",
       "375  ENSG00000009780.15      FAM76A                     17.9   \n",
       "486  ENSG00000116898.11      MRPS15                    22.21   \n",
       "\n",
       "    GTEX-1117F-0626-SM-5N9CS GTEX-1117F-0726-SM-5GIEN  \\\n",
       "89                     17.82                    7.634   \n",
       "49                     3.613                    7.357   \n",
       "375                    15.63                    3.554   \n",
       "486                    35.78                    19.51   \n",
       "\n",
       "    GTEX-111FC-0426-SM-5N9CV GTEX-111FC-0626-SM-5N9CU  \\\n",
       "89                     7.388                    13.87   \n",
       "49                     1.212                   0.4054   \n",
       "375                    12.57                    9.711   \n",
       "486                    34.85                    43.69   \n",
       "\n",
       "    GTEX-111FC-0826-SM-5GZWO GTEX-111VG-0326-SM-5GZX7  \\\n",
       "89                     10.71                    7.467   \n",
       "49                    0.2379                   0.5227   \n",
       "375                     5.01                     4.13   \n",
       "486                    38.74                    26.54   \n",
       "\n",
       "    GTEX-111YS-0006-SM-5NQBE  ... GTEX-ZYW4-0926-SM-59HJS  \\\n",
       "89                    0.1476  ...                   5.941   \n",
       "49                         0  ...                  0.3053   \n",
       "375                    1.647  ...                   3.287   \n",
       "486                    14.47  ...                   17.62   \n",
       "\n",
       "    GTEX-ZYW4-1226-SM-5E45B GTEX-ZYY3-1226-SM-5EQKM GTEX-ZZ64-1326-SM-5E444  \\\n",
       "89                    8.948                   9.802                   2.254   \n",
       "49                   0.3506                  0.6624                 0.08878   \n",
       "375                   10.82                   8.789                   7.545   \n",
       "486                   31.83                   28.45                   41.58   \n",
       "\n",
       "    GTEX-ZZPT-0926-SM-5GICZ GTEX-ZZPU-0226-SM-5N9BV GTEX-ZZPU-0926-SM-5GZYT  \\\n",
       "89                    4.893                   26.05                   9.067   \n",
       "49                   0.2648                   0.569                  0.2708   \n",
       "375                   4.966                   10.32                   4.235   \n",
       "486                   28.96                   34.51                   36.19   \n",
       "\n",
       "    GTEX-ZZPU-1026-SM-5E457 GTEX-ZZPU-1126-SM-5N9CW GTEX-ZZPU-2426-SM-5E44I  \n",
       "89                    15.91                   5.677                    2.25  \n",
       "49                    2.359                   0.227                       0  \n",
       "375                   6.512                   5.418                    10.1  \n",
       "486                   31.35                   33.63                   34.51  \n",
       "\n",
       "[4 rows x 3127 columns]"
      ]
     },
     "execution_count": 15,
     "metadata": {},
     "output_type": "execute_result"
    }
   ],
   "source": [
    "expression.iloc[np.random.randint(0, 1000, 4)]"
   ]
  },
  {
   "cell_type": "code",
   "execution_count": 16,
   "metadata": {},
   "outputs": [
    {
     "data": {
      "text/plain": [
       "(18619, 3127)"
      ]
     },
     "execution_count": 16,
     "metadata": {},
     "output_type": "execute_result"
    }
   ],
   "source": [
    "expression.shape"
   ]
  },
  {
   "cell_type": "markdown",
   "metadata": {},
   "source": [
    "# Understanding the Data"
   ]
  },
  {
   "cell_type": "code",
   "execution_count": 17,
   "metadata": {},
   "outputs": [],
   "source": [
    "# Let's get the TPM values of the matrix\n",
    "vals = expression[expression.columns[2:]].astype(float).values.T"
   ]
  },
  {
   "cell_type": "markdown",
   "metadata": {},
   "source": [
    "Let's consider what we have here. We got the TPM values from the dataframe, converted it to `float`, then took the _transpose_ of this matrix. This means we now have _samples_ per row and _genes_ per column.\n",
    "\n",
    "Every clustering algorithm needs to have some type of distance metric to compute how far apart two objects are. If we had had the _genes_ in rows, this would have meant we're calculating _how far apart two genes are_ (based on TPM), though the tranpose shows _how far apart two samples are_.\n",
    "\n",
    "This then means that we're going to cluster on the basis of the distances between samples, rather than genes. This was a deliberate choice to see if DBSCAN can roughly identify three clusters that correspond to - you guessed it, **Blood, Blood Vessel, and Heart**. \n",
    "> Just as an FYI, of course you can just cluster on the genes, though interpretation could be tricky. In fact, one could even do bi-clustering for something like this, but I digress...\n",
    "\n",
    "Another nice aspect of this is computational scalability. Previously we had a $n\\times k$ matrix of $n$ genes and $k$ samples ($18619 \\times 3127$). The distance matrix of genes would be $n \\times n$, while a distance matrix of samples is just $k \\times k$.\n",
    "\n",
    "Let's see what the range of TPM values can look like - this can help us understand what the distances would be like."
   ]
  },
  {
   "cell_type": "code",
   "execution_count": 19,
   "metadata": {},
   "outputs": [
    {
     "data": {
      "text/plain": [
       "<matplotlib.image.AxesImage at 0x1c4ce20978>"
      ]
     },
     "execution_count": 19,
     "metadata": {},
     "output_type": "execute_result"
    },
    {
     "data": {
      "image/png": "[encoded data removed]",
      "text/plain": [
       "<Figure size 432x288 with 1 Axes>"
      ]
     },
     "metadata": {
      "needs_background": "light"
     },
     "output_type": "display_data"
    }
   ],
   "source": [
    "%matplotlib inline\n",
    "import matplotlib.pyplot as plt\n",
    "\n",
    "# Let's plot a heatmap first, as it's a matrix\n",
    "plt.imshow(vals, interpolation='nearest', cmap = 'Blues')"
   ]
  },
  {
   "cell_type": "markdown",
   "metadata": {},
   "source": [
    "Hmm... that doesn't look quite right. How about we flatten out those values and create a histogram?"
   ]
  },
  {
   "cell_type": "code",
   "execution_count": 20,
   "metadata": {},
   "outputs": [
    {
     "name": "stdout",
     "output_type": "stream",
     "text": [
      "Min: 0.0, Max: 747400.0, Mean: 50.455648440229176, Median: 3.181\n"
     ]
    },
    {
     "data": {
      "image/png": "[encoded data removed]",
      "text/plain": [
       "<Figure size 432x288 with 1 Axes>"
      ]
     },
     "metadata": {
      "needs_background": "light"
     },
     "output_type": "display_data"
    }
   ],
   "source": [
    "# Flatten to a 1-dimensional vector.\n",
    "valarray = vals.flatten()\n",
    "\n",
    "min_tpm = np.min(valarray)\n",
    "max_tpm = np.max(valarray)\n",
    "mean_tpm = np.mean(valarray)\n",
    "median_tpm = np.median(valarray)\n",
    "\n",
    "# Draw the histogram\n",
    "o = plt.hist(valarray, bins = np.arange(0, 1001, 10))\n",
    "\n",
    "print(\"Min: {}, Max: {}, Mean: {}, Median: {}\".format(min_tpm, max_tpm, mean_tpm, median_tpm))"
   ]
  },
  {
   "cell_type": "markdown",
   "metadata": {},
   "source": [
    "OK, so the distribution is very skewed, with some values having very, very high values, and with nearly the entire dataset falling within 100TPM. One way to go around this is to use log transformation using a pseudocount of 1. $$\\log_\\text{TPM} = log(\\text{TPM}+1)$$.\n",
    "\n",
    "By giving everything a pseudo-count of 1, this means that genes with 0 TPM in some samples will be transformed to 0, while for other genes, this shouldn't have a huge effect. "
   ]
  },
  {
   "cell_type": "code",
   "execution_count": 21,
   "metadata": {},
   "outputs": [
    {
     "data": {
      "image/png": "[encoded data removed]",
      "text/plain": [
       "<Figure size 720x360 with 2 Axes>"
      ]
     },
     "metadata": {
      "needs_background": "light"
     },
     "output_type": "display_data"
    }
   ],
   "source": [
    "logTpm = np.log(vals+1)\n",
    "\n",
    "logTpmArray = logTpm.flatten()\n",
    "\n",
    "fig, ax = plt.subplots(1,2)\n",
    "ax[0].hist(logTpmArray)\n",
    "ax[1].imshow(logTpm, interpolation='nearest', cmap = 'Blues')\n",
    "\n",
    "fig.set_size_inches((10,5))"
   ]
  },
  {
   "cell_type": "markdown",
   "metadata": {},
   "source": [
    "Now that looks a lot better. We will calculate the pairwise distances based on this log TPM value."
   ]
  },
  {
   "cell_type": "code",
   "execution_count": 23,
   "metadata": {},
   "outputs": [],
   "source": [
    "# pairwise distances - use default of Euclidean though there are various ways of doing this\n",
    "# This will take a while since there's ~3000 pairwise distances to compute.\n",
    "from scipy.spatial.distance import pdist\n",
    "dmat = pdist(logTpm)"
   ]
  },
  {
   "cell_type": "code",
   "execution_count": 24,
   "metadata": {},
   "outputs": [
    {
     "data": {
      "image/png": "[encoded data removed]",
      "text/plain": [
       "<Figure size 432x288 with 1 Axes>"
      ]
     },
     "metadata": {
      "needs_background": "light"
     },
     "output_type": "display_data"
    }
   ],
   "source": [
    "# Let's look at the distribution of distances\n",
    "o = plt.hist(dmat)"
   ]
  },
  {
   "cell_type": "markdown",
   "metadata": {},
   "source": [
    "# MDS + DBSCAN"
   ]
  },
  {
   "cell_type": "markdown",
   "metadata": {},
   "source": [
    "For visualisation of the clusters, we're going to create a multi-dimensional scaling plot. In a nutshell, when given some distances between objects, MDS tries to reconstruct where various points sit with respect to each other. \n",
    "\n",
    "The analogy is something like, if you know the pairwise distances between New York, London, Tokyo, Sydney, and Dubai, MDS tries to figure out where those cities would sit (in a coordinate sense) from using just the distances alone."
   ]
  },
  {
   "cell_type": "code",
   "execution_count": 25,
   "metadata": {},
   "outputs": [],
   "source": [
    "from scipy.spatial.distance import squareform\n",
    "\n",
    "# Convert distance matrix from pdist into a square matrix\n",
    "sqmat = squareform(dmat)"
   ]
  },
  {
   "cell_type": "code",
   "execution_count": 26,
   "metadata": {},
   "outputs": [],
   "source": [
    "# Import some stuff\n",
    "from sklearn.cluster import DBSCAN\n",
    "from sklearn.manifold import MDS\n",
    "\n",
    "# Initialise an MDS object, this allows us to visualise points in space\n",
    "mds = MDS(dissimilarity='precomputed')"
   ]
  },
  {
   "cell_type": "code",
   "execution_count": 27,
   "metadata": {},
   "outputs": [],
   "source": [
    "# This step can take a while\n",
    "np.random.seed(0)\n",
    "coords = mds.fit_transform(sqmat)"
   ]
  },
  {
   "cell_type": "code",
   "execution_count": 46,
   "metadata": {},
   "outputs": [
    {
     "data": {
      "image/png": "[encoded data removed]",
      "text/plain": [
       "<Figure size 720x360 with 1 Axes>"
      ]
     },
     "metadata": {
      "needs_background": "light"
     },
     "output_type": "display_data"
    }
   ],
   "source": [
    "# Let's see what the MDS generates for the samples\n",
    "plt.scatter(coords[:,0], coords[:,1])\n",
    "\n",
    "plt.gcf().set_size_inches((10,5))\n",
    "plt.xlabel(\"Coordinate 1\")\n",
    "plt.ylabel(\"Coordinate 2\")\n",
    "plt.savefig(\"mds.png\", dpi = 600)"
   ]
  },
  {
   "cell_type": "markdown",
   "metadata": {},
   "source": [
    "Now that we know where the samples sit with respect to each other, let's see what the DBSCAN algorithm generates. We mentioned earlier that the DBSCAN algorithm depends on some distance parameter, $\\epsilon$, to determine how objects are clustered together.\n",
    "* For large values of $\\epsilon$, objects will all be consumed into one cluster\n",
    "* For small values of $\\epsilon$, objects will break down into individual singletons\n",
    "\n",
    "So then, how do we choose a good value of $\\epsilon$? This is usually achievable by an algorithm called OPTICS, but looking at our distance histogram from earlier, we can see that 75 could be a reasonable choice."
   ]
  },
  {
   "cell_type": "code",
   "execution_count": 33,
   "metadata": {},
   "outputs": [
    {
     "name": "stdout",
     "output_type": "stream",
     "text": [
      "{0, 1, 2, -1}\n"
     ]
    }
   ],
   "source": [
    "from sklearn.cluster import DBSCAN\n",
    "\n",
    "THRESHOLD = 75\n",
    "\n",
    "dbscan = DBSCAN(metric='precomputed', eps = THRESHOLD) # we calculated the distance already\n",
    "dbscan.fit(sqmat)\n",
    "\n",
    "print(set(dbscan.labels_))"
   ]
  },
  {
   "cell_type": "markdown",
   "metadata": {},
   "source": [
    "This is an interesting result; there are some outliers (label -1), but it found three distinct clusters even if I did not specify that there would be three clusters! How neat. Just for sake of argument, we can see how this result changes for very large or very small values of epsilon:"
   ]
  },
  {
   "cell_type": "code",
   "execution_count": 34,
   "metadata": {},
   "outputs": [
    {
     "name": "stdout",
     "output_type": "stream",
     "text": [
      "These are the clusters for large EPS: {0}\n",
      "These are the clusters for small EPS: {-1}\n"
     ]
    }
   ],
   "source": [
    "dbscan_large = DBSCAN(metric='precomputed', eps = 250) # we calculated the distance already\n",
    "dbscan_large.fit(sqmat)\n",
    "\n",
    "dbscan_small = DBSCAN(metric='precomputed', eps = 1) # we calculated the distance already\n",
    "dbscan_small.fit(sqmat)\n",
    "\n",
    "print(\"These are the clusters for large EPS: {}\".format(set(dbscan_large.labels_)))\n",
    "\n",
    "print(\"These are the clusters for small EPS: {}\".format(set(dbscan_small.labels_)))"
   ]
  },
  {
   "cell_type": "markdown",
   "metadata": {},
   "source": [
    "So it seems like the optimal epsilon value sits somewhere between 1 and 100. Let's visualise using our original results."
   ]
  },
  {
   "cell_type": "code",
   "execution_count": 44,
   "metadata": {},
   "outputs": [
    {
     "data": {
      "image/png": "[encoded data removed]",
      "text/plain": [
       "<Figure size 720x360 with 1 Axes>"
      ]
     },
     "metadata": {
      "needs_background": "light"
     },
     "output_type": "display_data"
    }
   ],
   "source": [
    "# Colour points based on cluster membership\n",
    "cols = {0: '#316fba', 1: '#e8291c', 2: '#77ff77', -1:'black'}\n",
    "colours = np.array([ cols[c] for c in dbscan.labels_ ])\n",
    "\n",
    "# Now let's see what the clusters look like\n",
    "zero_idx = np.argwhere(dbscan.labels_==0).flatten()\n",
    "one_idx = np.argwhere(dbscan.labels_==1).flatten()\n",
    "two_idx = np.argwhere(dbscan.labels_==2).flatten()\n",
    "\n",
    "plt.scatter(coords[:,0][zero_idx], coords[:,1][zero_idx], c = colours[zero_idx], label = \"Cluster 0\")\n",
    "plt.scatter(coords[:,0][one_idx], coords[:,1][one_idx], c = colours[one_idx], label = \"Cluster 1\")\n",
    "plt.scatter(coords[:,0][two_idx], coords[:,1][two_idx], c = colours[two_idx], label = \"Cluster 2\")\n",
    "\n",
    "plt.xlabel(\"Coordinate 1\")\n",
    "plt.ylabel(\"Coordinate 2\")\n",
    "\n",
    "plt.legend(loc = 'upper right')\n",
    "\n",
    "plt.gcf().set_size_inches((10,5))\n",
    "plt.savefig(\"gtex_clusters.png\", dpi = 600)"
   ]
  },
  {
   "cell_type": "markdown",
   "metadata": {},
   "source": [
    "That's beautiful isn't it? Notice how the green dots are situated in two distinct areas of this MDS plot. This is not a surprising behaviour because we're plotting the samples in a two-dimensional MDS plot, which is a reconstruction from the distance matrix we gave. In fact, in a higher-dimensional space, it's likely that these green dots are indeed close, but beyond three dimensions it's slightly hard to visualise dots.\n",
    "\n",
    "Anyway, let's see if our clusters vaguely capture the cellular locations."
   ]
  },
  {
   "cell_type": "code",
   "execution_count": 36,
   "metadata": {},
   "outputs": [],
   "source": [
    "sample_ids_used = expression.columns[2:]\n",
    "tissues_represented = {0: set(), 1: set(), 2: set(), -1: set()}\n",
    "\n",
    "for i, label in enumerate(dbscan.labels_):        \n",
    "    sample_id = sample_ids_used[i]\n",
    "    tissue = sample_id_to_smts[sample_id]\n",
    "    \n",
    "    tissues_represented[label].add(tissue)"
   ]
  },
  {
   "cell_type": "code",
   "execution_count": 37,
   "metadata": {},
   "outputs": [
    {
     "data": {
      "text/plain": [
       "{0: {'Blood Vessel', 'Heart'},\n",
       " 1: {'Blood'},\n",
       " 2: {'Blood'},\n",
       " -1: {'Blood', 'Blood Vessel'}}"
      ]
     },
     "execution_count": 37,
     "metadata": {},
     "output_type": "execute_result"
    }
   ],
   "source": [
    "tissues_represented"
   ]
  },
  {
   "cell_type": "markdown",
   "metadata": {},
   "source": [
    "This is a very neat result. It seems that samples from the Blood Vessel and Heart have similar tissue expression patterns, though Blood can be broken down to two separate clusters. Let's look at the finer location of the tissue (based on the `SMTSD` column from GTEx rather than `SMTS`)..."
   ]
  },
  {
   "cell_type": "code",
   "execution_count": 38,
   "metadata": {},
   "outputs": [],
   "source": [
    "finer_represented = {0: set(), 1: set(), 2: set(), -1: set()}\n",
    "\n",
    "for i, label in enumerate(dbscan.labels_):        \n",
    "    sample_id = sample_ids_used[i]\n",
    "    smtsd = sample_id_to_smtsd[sample_id]\n",
    "    \n",
    "    finer_represented[label].add(smtsd)"
   ]
  },
  {
   "cell_type": "code",
   "execution_count": 39,
   "metadata": {},
   "outputs": [
    {
     "data": {
      "text/plain": [
       "{0: {'Artery - Aorta',\n",
       "  'Artery - Coronary',\n",
       "  'Artery - Tibial',\n",
       "  'Heart - Atrial Appendage',\n",
       "  'Heart - Left Ventricle'},\n",
       " 1: {'Whole Blood'},\n",
       " 2: {'Cells - EBV-transformed lymphocytes'},\n",
       " -1: {'Artery - Tibial', 'Whole Blood'}}"
      ]
     },
     "execution_count": 39,
     "metadata": {},
     "output_type": "execute_result"
    }
   ],
   "source": [
    "finer_represented"
   ]
  },
  {
   "cell_type": "markdown",
   "metadata": {},
   "source": [
    "Very interesting indeed. So the arteries are close to the heart (aorta, coronary artery), and we see these samples clustering together. On the other hand, even though samples are designated as belonging to \"blood\", we see that there are two sub-samples of whole blood or from EBV-transformed lymphocytes. This is very neat.\n",
    "\n",
    "Again, this shows how, even when I haven't specified the number of clusters, but merely a distance, the algorithm detects three clusters, which broadly correspond to the three regions that we had specified earlier.\n",
    "\n",
    "Hopefully this shows you all how cool DBSCAN can be, and coupled with MDS, gives us an intuition for where samples can lie in some 2-dimensional manifold."
   ]
  }
 ],
 "metadata": {
  "kernelspec": {
   "display_name": "Python 3",
   "language": "python",
   "name": "python3"
  },
  "language_info": {
   "codemirror_mode": {
    "name": "ipython",
    "version": 3
   },
   "file_extension": ".py",
   "mimetype": "text/x-python",
   "name": "python",
   "nbconvert_exporter": "python",
   "pygments_lexer": "ipython3",
   "version": "3.7.3"
  }
 },
 "nbformat": 4,
 "nbformat_minor": 2
}

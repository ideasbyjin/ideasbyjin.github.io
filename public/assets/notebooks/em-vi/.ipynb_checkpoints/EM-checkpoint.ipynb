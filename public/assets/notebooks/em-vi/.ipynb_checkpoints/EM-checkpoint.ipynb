{
 "cells": [
  {
   "cell_type": "markdown",
   "metadata": {},
   "source": [
    "# EM to VI to VAE – part 1\n",
    "\n",
    "This is a three-part series that I'll be doing on expectation-maximisation, variational inference and variational autoencoders. It's been a pretty crazy ride for me to learn these methods, and I'd love to share what I've learned. \n",
    "\n",
    "There's a ton of posts on these topics, and feel free to search them out individually. I wanted this blog post to be a place that collects all the different resources out there and standardises notation since it can vary a bit.\n",
    "\n",
    "## Some background\n",
    "\n",
    "Recall that the likelihood represents the joint probability for the parameters of a model, $\\theta$, given the data:\n",
    "\n",
    "$$L(\\theta|x) = \\prod_{i=1}^{n} p(x_i | \\theta)$$\n",
    "\n",
    "Put another way, the likelihood function quantifies how well the parameters \n",
    "\n",
    "### Maximum-likelihood estimation\n",
    "\n",
    "In order to find the parameters that best fit the data, a typical procedure "
   ]
  },
  {
   "cell_type": "code",
   "execution_count": null,
   "metadata": {},
   "outputs": [],
   "source": []
  }
 ],
 "metadata": {
  "kernelspec": {
   "display_name": "Python 3",
   "language": "python",
   "name": "python3"
  },
  "language_info": {
   "codemirror_mode": {
    "name": "ipython",
    "version": 3
   },
   "file_extension": ".py",
   "mimetype": "text/x-python",
   "name": "python",
   "nbconvert_exporter": "python",
   "pygments_lexer": "ipython3",
   "version": "3.7.3"
  }
 },
 "nbformat": 4,
 "nbformat_minor": 2
}

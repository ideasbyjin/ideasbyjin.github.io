{
 "cells": [
  {
   "cell_type": "markdown",
   "metadata": {},
   "source": [
    "# PyTorch(-Lightning) as your first deep learning library\n",
    "\n",
    "\n",
    "Another technical post, been a while. Here I'll be doing a brief tutorial on using PyTorch as your first deep learning library. For the past couple of months I've had the chance to play with it for developing some models, and it's been excellent so far. \n",
    "\n",
    "With the introduction of PyTorch lightning, I'd argue this really lowers the barrier to entry and it's never too late to pick it up. There's quite a few good books in the area, and the tutorials/docs on the PyTorch website are ace."
   ]
  },
  {
   "cell_type": "markdown",
   "metadata": {},
   "source": [
    "### The problem at hand\n",
    "\n",
    "I've found that deep learning tutorials often focus on MNIST, while it's a good `hello world` dataset, I often work with text/sequence data anyway, so let's use that. Thus, this tutorial will build an LSTM (long short-term memory)-based text classifier. If you want to learn more about LSTMs, [this post](https://colah.github.io/posts/2015-08-Understanding-LSTMs/) provides an excellent intro."
   ]
  },
  {
   "cell_type": "code",
   "execution_count": 2,
   "metadata": {},
   "outputs": [],
   "source": [
    "import torch\n",
    "import pandas as pd\n",
    "import pytorch_lightning as pl\n",
    "import matplotlib.pyplot as plt"
   ]
  },
  {
   "cell_type": "code",
   "execution_count": null,
   "metadata": {},
   "outputs": [],
   "source": []
  }
 ],
 "metadata": {
  "kernelspec": {
   "display_name": "Python 3",
   "language": "python",
   "name": "python3"
  },
  "language_info": {
   "codemirror_mode": {
    "name": "ipython",
    "version": 3
   },
   "file_extension": ".py",
   "mimetype": "text/x-python",
   "name": "python",
   "nbconvert_exporter": "python",
   "pygments_lexer": "ipython3",
   "version": "3.7.3"
  }
 },
 "nbformat": 4,
 "nbformat_minor": 2
}

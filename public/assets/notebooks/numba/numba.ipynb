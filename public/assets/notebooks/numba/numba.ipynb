{
 "cells": [
  {
   "cell_type": "markdown",
   "id": "handed-burden",
   "metadata": {},
   "source": [
    "# Accelerating code with Numba\n",
    "\n",
    "I've discovered numba a few months ago, and haven't looked back since. I wouldn't consider myself a `numba` expert as there's lots of capabilities I'm still wrapping my head around (e.g. `@overload` decorators), but there's some use cases where Numba could be really useful. If you find you're doing a lot of `numpy` for your work, this is for you!\n",
    "\n",
    "If you have:\n",
    "* **30 seconds**: `@numba.jit(nopython=True)` your functions if it's purely numpy driven. Can be a bit of effort though.\n",
    "* **5 minutes**: read on.\n",
    "\n",
    "## Okay, what is numba, exactly?\n",
    "Numba is a \"just-in-time\" (JIT) compiler, which essentially means that a function you create will be compiled and can run independently of the Python interpreter. Simply, if your code involves lots of `numpy` and math, chances are, you can speed it up _even_ more.\n",
    "\n",
    "### That sounds great, but...\n",
    "Anecdotally speaking I've seen about 100-200x performance gains for some of the functions I've written with `numba`. The beauty of it is that it involves almost no work, provided that the code is mostly already in `numpy`, and that `numba` is compatible with your implementation. This is the catch that I think the 5-minute `numba` docs don't cover.\n",
    "\n",
    "`numba` is heavily typed and has specific implementations and signatures of `numpy` functions. In other words, you might have found that you can \"get away\" with calling `numpy` in specific ways in \"normal\" Python, but upon compiling with `numba`, you will come to some very surprising errors. You could argue that this is helpful though.\n",
    "\n",
    "### Example\n",
    "The example we're going to cover is the RAPDF function from [Samudrala and Moult](https://pubmed.ncbi.nlm.nih.gov/9480776/). RAPDF represents a sort of log odds ratio that two atoms of types $i$ and $j$ come into contact in a specific distance bin $d$:\n",
    "\n",
    "$$\\textrm{RAPDF} = -log\\left(\\dfrac{\\dfrac{n(d_{ij})}{\\sum_d n(d_{ij})}}{\\dfrac{\\sum_{ij} n(d_{ij})}{\\sum_d \\sum_{ij} n(d_{ij})}}\\right) $$\n",
    "\n",
    "This is typically the kind of data where RAPDF would be applied to; I've simplified the contacts to amino acids rather than atoms, but in practice, it would involve the same computation:"
   ]
  },
  {
   "cell_type": "code",
   "execution_count": 1,
   "id": "superior-dictionary",
   "metadata": {},
   "outputs": [
    {
     "data": {
      "text/html": [
       "<div>\n",
       "<style scoped>\n",
       "    .dataframe tbody tr th:only-of-type {\n",
       "        vertical-align: middle;\n",
       "    }\n",
       "\n",
       "    .dataframe tbody tr th {\n",
       "        vertical-align: top;\n",
       "    }\n",
       "\n",
       "    .dataframe thead th {\n",
       "        text-align: right;\n",
       "    }\n",
       "</style>\n",
       "<table border=\"1\" class=\"dataframe\">\n",
       "  <thead>\n",
       "    <tr style=\"text-align: right;\">\n",
       "      <th></th>\n",
       "      <th>0-3A</th>\n",
       "      <th>3-4A</th>\n",
       "      <th>4-5A</th>\n",
       "      <th>5-6A</th>\n",
       "      <th>6-7A</th>\n",
       "      <th>7-8A</th>\n",
       "    </tr>\n",
       "  </thead>\n",
       "  <tbody>\n",
       "    <tr>\n",
       "      <th>ALA:CYS</th>\n",
       "      <td>4</td>\n",
       "      <td>5</td>\n",
       "      <td>2</td>\n",
       "      <td>9</td>\n",
       "      <td>3</td>\n",
       "      <td>0</td>\n",
       "    </tr>\n",
       "    <tr>\n",
       "      <th>ALA:ASP</th>\n",
       "      <td>9</td>\n",
       "      <td>5</td>\n",
       "      <td>4</td>\n",
       "      <td>2</td>\n",
       "      <td>0</td>\n",
       "      <td>4</td>\n",
       "    </tr>\n",
       "    <tr>\n",
       "      <th>ALA:GLU</th>\n",
       "      <td>6</td>\n",
       "      <td>2</td>\n",
       "      <td>1</td>\n",
       "      <td>0</td>\n",
       "      <td>6</td>\n",
       "      <td>7</td>\n",
       "    </tr>\n",
       "    <tr>\n",
       "      <th>ALA:PHE</th>\n",
       "      <td>9</td>\n",
       "      <td>3</td>\n",
       "      <td>4</td>\n",
       "      <td>0</td>\n",
       "      <td>8</td>\n",
       "      <td>6</td>\n",
       "    </tr>\n",
       "    <tr>\n",
       "      <th>ALA:GLY</th>\n",
       "      <td>3</td>\n",
       "      <td>7</td>\n",
       "      <td>7</td>\n",
       "      <td>6</td>\n",
       "      <td>2</td>\n",
       "      <td>7</td>\n",
       "    </tr>\n",
       "  </tbody>\n",
       "</table>\n",
       "</div>"
      ],
      "text/plain": [
       "         0-3A  3-4A  4-5A  5-6A  6-7A  7-8A\n",
       "ALA:CYS     4     5     2     9     3     0\n",
       "ALA:ASP     9     5     4     2     0     4\n",
       "ALA:GLU     6     2     1     0     6     7\n",
       "ALA:PHE     9     3     4     0     8     6\n",
       "ALA:GLY     3     7     7     6     2     7"
      ]
     },
     "execution_count": 1,
     "metadata": {},
     "output_type": "execute_result"
    }
   ],
   "source": [
    "import pandas as pd\n",
    "\n",
    "# this is just a randomly generated contact map\n",
    "df = pd.read_csv(\"contact_map.tsv\", sep='\\t', index_col = 0)\n",
    "df.head(5)"
   ]
  },
  {
   "cell_type": "markdown",
   "id": "deluxe-breach",
   "metadata": {},
   "source": [
    "**If you're curious**:, the top fraction in the numerator represents the number of contacts between types $i$ and $j$ in distance bin $d$, divided by the total number of contacts between types $i$ and $j$ across all distance bins. This is then divided by the bottom fraction, where the number of contacts between all atom types at a specific distance bin $d$ is divided by all contacts across all distance bins.\n",
    "\n",
    "You may have noticed some 0s in the data; since we're going to compute a log later, we'll add a pseudocount of 0.0001."
   ]
  },
  {
   "cell_type": "code",
   "execution_count": 2,
   "id": "backed-length",
   "metadata": {},
   "outputs": [
    {
     "data": {
      "text/html": [
       "<div>\n",
       "<style scoped>\n",
       "    .dataframe tbody tr th:only-of-type {\n",
       "        vertical-align: middle;\n",
       "    }\n",
       "\n",
       "    .dataframe tbody tr th {\n",
       "        vertical-align: top;\n",
       "    }\n",
       "\n",
       "    .dataframe thead th {\n",
       "        text-align: right;\n",
       "    }\n",
       "</style>\n",
       "<table border=\"1\" class=\"dataframe\">\n",
       "  <thead>\n",
       "    <tr style=\"text-align: right;\">\n",
       "      <th></th>\n",
       "      <th>0-3A</th>\n",
       "      <th>3-4A</th>\n",
       "      <th>4-5A</th>\n",
       "      <th>5-6A</th>\n",
       "      <th>6-7A</th>\n",
       "      <th>7-8A</th>\n",
       "    </tr>\n",
       "  </thead>\n",
       "  <tbody>\n",
       "    <tr>\n",
       "      <th>ALA:CYS</th>\n",
       "      <td>4.0001</td>\n",
       "      <td>5.0001</td>\n",
       "      <td>2.0001</td>\n",
       "      <td>9.0001</td>\n",
       "      <td>3.0001</td>\n",
       "      <td>0.0001</td>\n",
       "    </tr>\n",
       "    <tr>\n",
       "      <th>ALA:ASP</th>\n",
       "      <td>9.0001</td>\n",
       "      <td>5.0001</td>\n",
       "      <td>4.0001</td>\n",
       "      <td>2.0001</td>\n",
       "      <td>0.0001</td>\n",
       "      <td>4.0001</td>\n",
       "    </tr>\n",
       "    <tr>\n",
       "      <th>ALA:GLU</th>\n",
       "      <td>6.0001</td>\n",
       "      <td>2.0001</td>\n",
       "      <td>1.0001</td>\n",
       "      <td>0.0001</td>\n",
       "      <td>6.0001</td>\n",
       "      <td>7.0001</td>\n",
       "    </tr>\n",
       "    <tr>\n",
       "      <th>ALA:PHE</th>\n",
       "      <td>9.0001</td>\n",
       "      <td>3.0001</td>\n",
       "      <td>4.0001</td>\n",
       "      <td>0.0001</td>\n",
       "      <td>8.0001</td>\n",
       "      <td>6.0001</td>\n",
       "    </tr>\n",
       "    <tr>\n",
       "      <th>ALA:GLY</th>\n",
       "      <td>3.0001</td>\n",
       "      <td>7.0001</td>\n",
       "      <td>7.0001</td>\n",
       "      <td>6.0001</td>\n",
       "      <td>2.0001</td>\n",
       "      <td>7.0001</td>\n",
       "    </tr>\n",
       "  </tbody>\n",
       "</table>\n",
       "</div>"
      ],
      "text/plain": [
       "           0-3A    3-4A    4-5A    5-6A    6-7A    7-8A\n",
       "ALA:CYS  4.0001  5.0001  2.0001  9.0001  3.0001  0.0001\n",
       "ALA:ASP  9.0001  5.0001  4.0001  2.0001  0.0001  4.0001\n",
       "ALA:GLU  6.0001  2.0001  1.0001  0.0001  6.0001  7.0001\n",
       "ALA:PHE  9.0001  3.0001  4.0001  0.0001  8.0001  6.0001\n",
       "ALA:GLY  3.0001  7.0001  7.0001  6.0001  2.0001  7.0001"
      ]
     },
     "execution_count": 2,
     "metadata": {},
     "output_type": "execute_result"
    }
   ],
   "source": [
    "df = df+1e-4\n",
    "df.head(5)"
   ]
  },
  {
   "cell_type": "markdown",
   "id": "proof-tribe",
   "metadata": {},
   "source": [
    "We can code RAPDF as so:"
   ]
  },
  {
   "cell_type": "code",
   "execution_count": 3,
   "id": "hearing-miniature",
   "metadata": {},
   "outputs": [],
   "source": [
    "import numpy as np\n",
    "\n",
    "def rapdf(contact_map: np.ndarray):\n",
    "    \n",
    "    all_contact_d = np.sum(contact_map, axis=0)\n",
    "    all_contact_all_d = np.sum(contact_map)\n",
    "    \n",
    "    # this is constant per distance bin, so only calculate once!\n",
    "    denominator = all_contact_d / all_contact_all_d\n",
    "    \n",
    "    scores = np.zeros(contact_map.shape)\n",
    "    \n",
    "    for i, row in enumerate(contact_map):\n",
    "        \n",
    "        # this just ensures we don't divide by 0\n",
    "        rowsum = max(row.sum(), 1)\n",
    "        \n",
    "        for j, cell in enumerate(row):\n",
    "            \n",
    "            numerator = (cell/rowsum)\n",
    "            scores[i][j] = -np.log(numerator/denominator[j]).round(2)\n",
    "    \n",
    "    return scores"
   ]
  },
  {
   "cell_type": "markdown",
   "id": "historical-drama",
   "metadata": {},
   "source": [
    "Now we can see it in action:"
   ]
  },
  {
   "cell_type": "code",
   "execution_count": 4,
   "id": "transsexual-portugal",
   "metadata": {},
   "outputs": [
    {
     "name": "stdout",
     "output_type": "stream",
     "text": [
      "[[-0.07 -0.23  0.65 -0.82  0.2  10.55]\n",
      " [-0.84 -0.19  0.    0.73 10.55  0.  ]\n",
      " [-0.52  0.64  1.3  10.55 -0.54 -0.65]\n",
      " ...\n",
      " [10.73  0.48 -0.4  -0.62 -0.59  1.54]\n",
      " [-0.14  1.71 -0.27 -0.49 -0.57 10.88]\n",
      " [-0.14 -0.08  0.98 -0.24  0.24 -0.27]] This took 13474.225997924805 miroseconds\n"
     ]
    }
   ],
   "source": [
    "from time import time\n",
    "\n",
    "t1 = time()\n",
    "scores = rapdf(df.values)\n",
    "t2 = time()\n",
    "\n",
    "print(scores, \"This took {} miroseconds\".format((t2-t1)*(10**6)))"
   ]
  },
  {
   "cell_type": "markdown",
   "id": "corresponding-scanning",
   "metadata": {},
   "source": [
    "Cool, we can also use the `timeit` magic function to do this with more runs:"
   ]
  },
  {
   "cell_type": "code",
   "execution_count": 5,
   "id": "interim-station",
   "metadata": {},
   "outputs": [
    {
     "name": "stdout",
     "output_type": "stream",
     "text": [
      "7.64 ms ± 186 µs per loop (mean ± std. dev. of 7 runs, 100 loops each)\n"
     ]
    }
   ],
   "source": [
    "%timeit rapdf(df.values)"
   ]
  },
  {
   "cell_type": "markdown",
   "id": "continental-tennessee",
   "metadata": {},
   "source": [
    "~7.8ms (or about 7800 microseconds) isn't bad, but this is where `numba` will shine. To start, we just need to apply a decorator, `@numba.jit(nopython=True)`. This tells `numba` to compile the function in nopython mode, meaning maximum performance gains; otherwise, without the flag, I've found that the performance gains I had gotten wasn't really worth the effort."
   ]
  },
  {
   "cell_type": "code",
   "execution_count": 6,
   "id": "representative-strap",
   "metadata": {},
   "outputs": [],
   "source": [
    "import numba \n",
    "# This is a decorator that tells numba to compile this function in \"no python mode\".\n",
    "@numba.jit(nopython=True)\n",
    "def rapdf(contact_map: np.ndarray):\n",
    "    \n",
    "    all_contact_d = np.sum(contact_map, axis=0)\n",
    "    all_contact_all_d = np.sum(contact_map)\n",
    "    \n",
    "    # this is constant per distance bin, so only calculate once!\n",
    "    denominator = all_contact_d / all_contact_all_d\n",
    "    \n",
    "    scores = np.zeros(contact_map.shape)\n",
    "    \n",
    "    for i, row in enumerate(contact_map):\n",
    "        \n",
    "        # this just ensures we don't divide by 0\n",
    "        rowsum = max(row.sum(), 1)\n",
    "        \n",
    "        for j, cell in enumerate(row):\n",
    "            \n",
    "            numerator = (cell/rowsum)\n",
    "            scores[i][j] = -np.log(numerator/denominator[j]).round(2)\n",
    "    \n",
    "    return scores"
   ]
  },
  {
   "cell_type": "markdown",
   "id": "irish-pipeline",
   "metadata": {},
   "source": [
    "To start with, let's use the _exact_ same definition as above; then we can call rapdf again:"
   ]
  },
  {
   "cell_type": "code",
   "execution_count": 7,
   "id": "aggressive-speaking",
   "metadata": {},
   "outputs": [
    {
     "ename": "TypingError",
     "evalue": "Failed in nopython mode pipeline (step: nopython frontend)\nUnknown attribute 'round' of type float64\n\nFile \"<ipython-input-6-e7160609fabf>\", line 22:\ndef rapdf(contact_map: np.ndarray):\n    <source elided>\n            numerator = (cell/rowsum)\n            scores[i][j] = -np.log(numerator/denominator[j]).round(2)\n            ^\n\nDuring: typing of get attribute at <ipython-input-6-e7160609fabf> (22)\n\nFile \"<ipython-input-6-e7160609fabf>\", line 22:\ndef rapdf(contact_map: np.ndarray):\n    <source elided>\n            numerator = (cell/rowsum)\n            scores[i][j] = -np.log(numerator/denominator[j]).round(2)\n            ^\n",
     "output_type": "error",
     "traceback": [
      "\u001b[0;31m---------------------------------------------------------------------------\u001b[0m",
      "\u001b[0;31mTypingError\u001b[0m                               Traceback (most recent call last)",
      "\u001b[0;32m<ipython-input-7-ce15ae41f76c>\u001b[0m in \u001b[0;36m<module>\u001b[0;34m\u001b[0m\n\u001b[1;32m      1\u001b[0m \u001b[0mt1\u001b[0m \u001b[0;34m=\u001b[0m \u001b[0mtime\u001b[0m\u001b[0;34m(\u001b[0m\u001b[0;34m)\u001b[0m\u001b[0;34m\u001b[0m\u001b[0;34m\u001b[0m\u001b[0m\n\u001b[0;32m----> 2\u001b[0;31m \u001b[0mscores\u001b[0m \u001b[0;34m=\u001b[0m \u001b[0mrapdf\u001b[0m\u001b[0;34m(\u001b[0m\u001b[0mdf\u001b[0m\u001b[0;34m.\u001b[0m\u001b[0mvalues\u001b[0m\u001b[0;34m)\u001b[0m\u001b[0;34m\u001b[0m\u001b[0;34m\u001b[0m\u001b[0m\n\u001b[0m\u001b[1;32m      3\u001b[0m \u001b[0mt2\u001b[0m \u001b[0;34m=\u001b[0m \u001b[0mtime\u001b[0m\u001b[0;34m(\u001b[0m\u001b[0;34m)\u001b[0m\u001b[0;34m\u001b[0m\u001b[0;34m\u001b[0m\u001b[0m\n\u001b[1;32m      4\u001b[0m \u001b[0;34m\u001b[0m\u001b[0m\n\u001b[1;32m      5\u001b[0m \u001b[0mprint\u001b[0m\u001b[0;34m(\u001b[0m\u001b[0mscores\u001b[0m\u001b[0;34m,\u001b[0m \u001b[0;34m\"This took {} miroseconds\"\u001b[0m\u001b[0;34m.\u001b[0m\u001b[0mformat\u001b[0m\u001b[0;34m(\u001b[0m\u001b[0;34m(\u001b[0m\u001b[0mt2\u001b[0m\u001b[0;34m-\u001b[0m\u001b[0mt1\u001b[0m\u001b[0;34m)\u001b[0m\u001b[0;34m*\u001b[0m\u001b[0;34m(\u001b[0m\u001b[0;36m10\u001b[0m\u001b[0;34m**\u001b[0m\u001b[0;36m6\u001b[0m\u001b[0;34m)\u001b[0m\u001b[0;34m)\u001b[0m\u001b[0;34m)\u001b[0m\u001b[0;34m\u001b[0m\u001b[0;34m\u001b[0m\u001b[0m\n",
      "\u001b[0;32m~/miniconda3/envs/work/lib/python3.8/site-packages/numba/core/dispatcher.py\u001b[0m in \u001b[0;36m_compile_for_args\u001b[0;34m(self, *args, **kws)\u001b[0m\n\u001b[1;32m    412\u001b[0m                 \u001b[0me\u001b[0m\u001b[0;34m.\u001b[0m\u001b[0mpatch_message\u001b[0m\u001b[0;34m(\u001b[0m\u001b[0mmsg\u001b[0m\u001b[0;34m)\u001b[0m\u001b[0;34m\u001b[0m\u001b[0;34m\u001b[0m\u001b[0m\n\u001b[1;32m    413\u001b[0m \u001b[0;34m\u001b[0m\u001b[0m\n\u001b[0;32m--> 414\u001b[0;31m             \u001b[0merror_rewrite\u001b[0m\u001b[0;34m(\u001b[0m\u001b[0me\u001b[0m\u001b[0;34m,\u001b[0m \u001b[0;34m'typing'\u001b[0m\u001b[0;34m)\u001b[0m\u001b[0;34m\u001b[0m\u001b[0;34m\u001b[0m\u001b[0m\n\u001b[0m\u001b[1;32m    415\u001b[0m         \u001b[0;32mexcept\u001b[0m \u001b[0merrors\u001b[0m\u001b[0;34m.\u001b[0m\u001b[0mUnsupportedError\u001b[0m \u001b[0;32mas\u001b[0m \u001b[0me\u001b[0m\u001b[0;34m:\u001b[0m\u001b[0;34m\u001b[0m\u001b[0;34m\u001b[0m\u001b[0m\n\u001b[1;32m    416\u001b[0m             \u001b[0;31m# Something unsupported is present in the user code, add help info\u001b[0m\u001b[0;34m\u001b[0m\u001b[0;34m\u001b[0m\u001b[0;34m\u001b[0m\u001b[0m\n",
      "\u001b[0;32m~/miniconda3/envs/work/lib/python3.8/site-packages/numba/core/dispatcher.py\u001b[0m in \u001b[0;36merror_rewrite\u001b[0;34m(e, issue_type)\u001b[0m\n\u001b[1;32m    355\u001b[0m                 \u001b[0;32mraise\u001b[0m \u001b[0me\u001b[0m\u001b[0;34m\u001b[0m\u001b[0;34m\u001b[0m\u001b[0m\n\u001b[1;32m    356\u001b[0m             \u001b[0;32melse\u001b[0m\u001b[0;34m:\u001b[0m\u001b[0;34m\u001b[0m\u001b[0;34m\u001b[0m\u001b[0m\n\u001b[0;32m--> 357\u001b[0;31m                 \u001b[0;32mraise\u001b[0m \u001b[0me\u001b[0m\u001b[0;34m.\u001b[0m\u001b[0mwith_traceback\u001b[0m\u001b[0;34m(\u001b[0m\u001b[0;32mNone\u001b[0m\u001b[0;34m)\u001b[0m\u001b[0;34m\u001b[0m\u001b[0;34m\u001b[0m\u001b[0m\n\u001b[0m\u001b[1;32m    358\u001b[0m \u001b[0;34m\u001b[0m\u001b[0m\n\u001b[1;32m    359\u001b[0m         \u001b[0margtypes\u001b[0m \u001b[0;34m=\u001b[0m \u001b[0;34m[\u001b[0m\u001b[0;34m]\u001b[0m\u001b[0;34m\u001b[0m\u001b[0;34m\u001b[0m\u001b[0m\n",
      "\u001b[0;31mTypingError\u001b[0m: Failed in nopython mode pipeline (step: nopython frontend)\nUnknown attribute 'round' of type float64\n\nFile \"<ipython-input-6-e7160609fabf>\", line 22:\ndef rapdf(contact_map: np.ndarray):\n    <source elided>\n            numerator = (cell/rowsum)\n            scores[i][j] = -np.log(numerator/denominator[j]).round(2)\n            ^\n\nDuring: typing of get attribute at <ipython-input-6-e7160609fabf> (22)\n\nFile \"<ipython-input-6-e7160609fabf>\", line 22:\ndef rapdf(contact_map: np.ndarray):\n    <source elided>\n            numerator = (cell/rowsum)\n            scores[i][j] = -np.log(numerator/denominator[j]).round(2)\n            ^\n"
     ]
    }
   ],
   "source": [
    "t1 = time()\n",
    "scores = rapdf(df.values)\n",
    "t2 = time()\n",
    "\n",
    "print(scores, \"This took {} miroseconds\".format((t2-t1)*(10**6)))"
   ]
  },
  {
   "cell_type": "markdown",
   "id": "residential-argument",
   "metadata": {},
   "source": [
    "This was half-expected. From experience, there will always be something that `numba` isn't compatible with; in this case, the `round` operation. We can \"get rid of it\" by doing a trick:"
   ]
  },
  {
   "cell_type": "code",
   "execution_count": 9,
   "id": "occupied-metadata",
   "metadata": {},
   "outputs": [],
   "source": [
    "# This is a decorator that tells numba to compile this function in \"no python mode\".\n",
    "@numba.jit(nopython=True)\n",
    "def rapdf(contact_map: np.ndarray):\n",
    "    \n",
    "    all_contact_d = np.sum(contact_map, axis=0)\n",
    "    all_contact_all_d = np.sum(contact_map)\n",
    "    \n",
    "    # this is constant per distance bin, so only calculate once!\n",
    "    denominator = all_contact_d / all_contact_all_d\n",
    "    \n",
    "    scores = np.zeros(contact_map.shape)\n",
    "    \n",
    "    for i, row in enumerate(contact_map):\n",
    "        \n",
    "        # this just ensures we don't divide by 0\n",
    "        rowsum = max(row.sum(), 1)\n",
    "        \n",
    "        for j, cell in enumerate(row):\n",
    "            \n",
    "            numerator = (cell/rowsum)\n",
    "            \n",
    "            # notice where the round operator has gone now!\n",
    "            scores[i][j] = np.round(-np.log(numerator/denominator[j]), 2)\n",
    "    \n",
    "    return scores"
   ]
  },
  {
   "cell_type": "markdown",
   "id": "acoustic-stretch",
   "metadata": {},
   "source": [
    "And now, will it run?"
   ]
  },
  {
   "cell_type": "code",
   "execution_count": 10,
   "id": "destroyed-error",
   "metadata": {},
   "outputs": [
    {
     "name": "stdout",
     "output_type": "stream",
     "text": [
      "[[-0.07 -0.23  0.65 -0.82  0.2  10.55]\n",
      " [-0.84 -0.19  0.    0.73 10.55  0.  ]\n",
      " [-0.52  0.64  1.3  10.55 -0.54 -0.65]\n",
      " ...\n",
      " [10.73  0.48 -0.4  -0.62 -0.59  1.54]\n",
      " [-0.14  1.71 -0.27 -0.49 -0.57 10.88]\n",
      " [-0.14 -0.08  0.98 -0.24  0.24 -0.27]] This took 1207432.9853057861 miroseconds\n"
     ]
    }
   ],
   "source": [
    "t1 = time()\n",
    "scores = rapdf(df.values)\n",
    "t2 = time()\n",
    "\n",
    "print(scores, \"This took {} miroseconds\".format((t2-t1)*(10**6)))"
   ]
  },
  {
   "cell_type": "markdown",
   "id": "subjective-david",
   "metadata": {},
   "source": [
    "Now it works! You might now be thinking, _wait a minute_, this was actually slower than before! Hold on a minute. The reason for this is that `numba` had to _compile_ your function the first time you call it. This is where most of the time has gone in. In fact, if you now call `rapdf` again, you'll see:"
   ]
  },
  {
   "cell_type": "code",
   "execution_count": 11,
   "id": "polar-joyce",
   "metadata": {},
   "outputs": [
    {
     "name": "stdout",
     "output_type": "stream",
     "text": [
      "[[-0.07 -0.23  0.65 -0.82  0.2  10.55]\n",
      " [-0.84 -0.19  0.    0.73 10.55  0.  ]\n",
      " [-0.52  0.64  1.3  10.55 -0.54 -0.65]\n",
      " ...\n",
      " [10.73  0.48 -0.4  -0.62 -0.59  1.54]\n",
      " [-0.14  1.71 -0.27 -0.49 -0.57 10.88]\n",
      " [-0.14 -0.08  0.98 -0.24  0.24 -0.27]] This took 232.93495178222656 miroseconds\n"
     ]
    }
   ],
   "source": [
    "t1 = time()\n",
    "scores = rapdf(df.values)\n",
    "t2 = time()\n",
    "\n",
    "print(scores, \"This took {} miroseconds\".format((t2-t1)*(10**6)))"
   ]
  },
  {
   "cell_type": "markdown",
   "id": "thrown-fleet",
   "metadata": {},
   "source": [
    "And if we do this over several runs:"
   ]
  },
  {
   "cell_type": "code",
   "execution_count": 12,
   "id": "promotional-usage",
   "metadata": {},
   "outputs": [
    {
     "name": "stdout",
     "output_type": "stream",
     "text": [
      "28.1 µs ± 341 ns per loop (mean ± std. dev. of 7 runs, 10000 loops each)\n"
     ]
    }
   ],
   "source": [
    "%timeit rapdf(df.values)"
   ]
  },
  {
   "cell_type": "markdown",
   "id": "horizontal-pastor",
   "metadata": {},
   "source": [
    "Now look at that! It's shrunk down to 28 _microseconds_ in comparison to the >7 _miliseconds_ we had before. That's equivalent to a 250-fold speed up. You can imagine that if you had code that you'd call over and over again, this is where `numba` could be so useful. "
   ]
  }
 ],
 "metadata": {
  "kernelspec": {
   "display_name": "Python 3",
   "language": "python",
   "name": "python3"
  },
  "language_info": {
   "codemirror_mode": {
    "name": "ipython",
    "version": 3
   },
   "file_extension": ".py",
   "mimetype": "text/x-python",
   "name": "python",
   "nbconvert_exporter": "python",
   "pygments_lexer": "ipython3",
   "version": "3.8.5"
  }
 },
 "nbformat": 4,
 "nbformat_minor": 5
}

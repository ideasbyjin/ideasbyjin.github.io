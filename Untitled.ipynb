{
 "cells": [
  {
   "cell_type": "code",
   "execution_count": 1,
   "metadata": {},
   "outputs": [],
   "source": [
    "import numpy as np\n",
    "from Bio.SubsMat.MatrixInfo import blosum62"
   ]
  },
  {
   "cell_type": "code",
   "execution_count": 2,
   "metadata": {},
   "outputs": [],
   "source": [
    "seq1 = \"-\" + \"GCATGCU\"\n",
    "seq2 = \"-\" + \"GATTACA\""
   ]
  },
  {
   "cell_type": "code",
   "execution_count": 7,
   "metadata": {},
   "outputs": [],
   "source": [
    "m = np.zeros((len(seq1), len(seq2)))\n",
    "t = [['']*len(seq2) for i in range(len(seq1)) ] # transition matrix\n",
    "\n",
    "GAP = -1\n",
    "\n",
    "m[0,:] = [ i*GAP for i in range(len(seq2)) ]\n",
    "m[:,0] = [ i*GAP for i in range(len(seq1)) ]"
   ]
  },
  {
   "cell_type": "code",
   "execution_count": 4,
   "metadata": {},
   "outputs": [
    {
     "data": {
      "text/plain": [
       "array([[ 0., -1., -2., -3., -4., -5., -6., -7.],\n",
       "       [-1.,  0.,  0.,  0.,  0.,  0.,  0.,  0.],\n",
       "       [-2.,  0.,  0.,  0.,  0.,  0.,  0.,  0.],\n",
       "       [-3.,  0.,  0.,  0.,  0.,  0.,  0.,  0.],\n",
       "       [-4.,  0.,  0.,  0.,  0.,  0.,  0.,  0.],\n",
       "       [-5.,  0.,  0.,  0.,  0.,  0.,  0.,  0.],\n",
       "       [-6.,  0.,  0.,  0.,  0.,  0.,  0.,  0.],\n",
       "       [-7.,  0.,  0.,  0.,  0.,  0.,  0.,  0.]])"
      ]
     },
     "execution_count": 4,
     "metadata": {},
     "output_type": "execute_result"
    }
   ],
   "source": [
    "m"
   ]
  },
  {
   "cell_type": "code",
   "execution_count": 17,
   "metadata": {},
   "outputs": [],
   "source": [
    "def get_blosum(i,j):\n",
    "    x = seq1[i]\n",
    "    y = seq2[j]\n",
    "    s = blosum62.get((x,y))\n",
    "    if s:\n",
    "        return s\n",
    "    else:\n",
    "        return blosum62.get((y,x))\n",
    "\n",
    "def get_match(i,j):\n",
    "    x = seq1[i]\n",
    "    y = seq2[j]\n",
    "    \n",
    "    if x == y:\n",
    "        return 1\n",
    "    else:\n",
    "        return -1\n",
    "\n",
    "def score(i,j, matrix_score = get_blosum):\n",
    "    if i == 0 or j == 0:\n",
    "        return m[i,j], 'l'\n",
    "    else:\n",
    "        diag = score(i-1, j-1, matrix_score)[0] + matrix_score(i,j)\n",
    "        up = score(i-1, j, matrix_score)[0] + GAP\n",
    "        left = score(i, j-1, matrix_score)[0] + GAP\n",
    "        \n",
    "        direction = ['d','u','l']\n",
    "        \n",
    "        return max(diag,up,left), direction[np.argmax([diag,up,left])]"
   ]
  },
  {
   "cell_type": "code",
   "execution_count": 22,
   "metadata": {},
   "outputs": [
    {
     "name": "stdout",
     "output_type": "stream",
     "text": [
      "0 0 0.0 l\n",
      "0 1 -1.0 l\n",
      "0 2 -2.0 l\n",
      "0 3 -3.0 l\n",
      "0 4 -4.0 l\n",
      "0 5 -5.0 l\n",
      "0 6 -6.0 l\n",
      "0 7 -7.0 l\n",
      "1 0 -1.0 l\n",
      "1 1 1.0 d\n",
      "1 2 0.0 l\n",
      "1 3 -1.0 l\n",
      "1 4 -2.0 l\n",
      "1 5 -3.0 l\n",
      "1 6 -4.0 l\n",
      "1 7 -5.0 l\n",
      "2 0 -2.0 l\n",
      "2 1 0.0 u\n",
      "2 2 0.0 d\n",
      "2 3 -1.0 d\n",
      "2 4 -2.0 d\n",
      "2 5 -3.0 d\n",
      "2 6 -2.0 d\n",
      "2 7 -3.0 l\n",
      "3 0 -3.0 l\n",
      "3 1 -1.0 u\n",
      "3 2 1.0 d\n",
      "3 3 0.0 l\n",
      "3 4 -1.0 l\n",
      "3 5 -1.0 d\n",
      "3 6 -2.0 l\n",
      "3 7 -1.0 d\n",
      "4 0 -4.0 l\n",
      "4 1 -2.0 u\n",
      "4 2 0.0 u\n",
      "4 3 2.0 d\n",
      "4 4 1.0 d\n",
      "4 5 0.0 l\n",
      "4 6 -1.0 l\n",
      "4 7 -2.0 u\n",
      "5 0 -5.0 l\n",
      "5 1 -3.0 d\n",
      "5 2 -1.0 u\n",
      "5 3 1.0 u\n",
      "5 4 1.0 d\n",
      "5 5 0.0 d\n",
      "5 6 -1.0 d\n",
      "5 7 -2.0 d\n",
      "6 0 -6.0 l\n",
      "6 1 -4.0 u\n",
      "6 2 -2.0 u\n",
      "6 3 0.0 u\n",
      "6 4 0.0 d\n",
      "6 5 0.0 d\n",
      "6 6 1.0 d\n",
      "6 7 0.0 l\n",
      "7 0 -7.0 l\n",
      "7 1 -5.0 u\n",
      "7 2 -3.0 u\n",
      "7 3 -1.0 u\n",
      "7 4 -1.0 d\n",
      "7 5 -1.0 d\n",
      "7 6 0.0 u\n",
      "7 7 0.0 d\n"
     ]
    }
   ],
   "source": [
    "for ii, xx in enumerate(seq1):\n",
    "    for jj, yy in enumerate(seq2):\n",
    "        s, d = score(ii,jj, get_match)\n",
    "        print(ii,jj,s,d)\n",
    "        m[ii,jj] = s\n",
    "        t[ii][jj] = d"
   ]
  },
  {
   "cell_type": "code",
   "execution_count": 19,
   "metadata": {},
   "outputs": [
    {
     "data": {
      "text/plain": [
       "array([[ 0., -1., -2., -3., -4., -5., -6., -7.],\n",
       "       [-1.,  1.,  0., -1., -2., -3., -4., -5.],\n",
       "       [-2.,  0.,  0., -1., -2., -3., -2., -3.],\n",
       "       [-3., -1.,  1.,  0., -1., -1., -2., -1.],\n",
       "       [-4., -2.,  0.,  2.,  1.,  0., -1., -2.],\n",
       "       [-5., -3., -1.,  1.,  1.,  0., -1., -2.],\n",
       "       [-6., -4., -2.,  0.,  0.,  0.,  1.,  0.],\n",
       "       [-7., -5., -3., -1., -1., -1.,  0.,  0.]])"
      ]
     },
     "execution_count": 19,
     "metadata": {},
     "output_type": "execute_result"
    }
   ],
   "source": [
    "m"
   ]
  },
  {
   "cell_type": "code",
   "execution_count": 20,
   "metadata": {},
   "outputs": [
    {
     "data": {
      "text/plain": [
       "[['l', 'l', 'l', 'l', 'l', 'l', 'l', 'l'],\n",
       " ['l', 'd', 'l', 'l', 'l', 'l', 'l', 'l'],\n",
       " ['l', 'u', 'd', 'd', 'd', 'd', 'd', 'l'],\n",
       " ['l', 'u', 'd', 'l', 'l', 'd', 'l', 'd'],\n",
       " ['l', 'u', 'u', 'd', 'd', 'l', 'l', 'u'],\n",
       " ['l', 'd', 'u', 'u', 'd', 'd', 'd', 'd'],\n",
       " ['l', 'u', 'u', 'u', 'd', 'd', 'd', 'l'],\n",
       " ['l', 'u', 'u', 'u', 'd', 'd', 'u', 'd']]"
      ]
     },
     "execution_count": 20,
     "metadata": {},
     "output_type": "execute_result"
    }
   ],
   "source": [
    "t"
   ]
  }
 ],
 "metadata": {
  "kernelspec": {
   "display_name": "Python 3",
   "language": "python",
   "name": "python3"
  },
  "language_info": {
   "codemirror_mode": {
    "name": "ipython",
    "version": 3
   },
   "file_extension": ".py",
   "mimetype": "text/x-python",
   "name": "python",
   "nbconvert_exporter": "python",
   "pygments_lexer": "ipython3",
   "version": "3.7.3"
  }
 },
 "nbformat": 4,
 "nbformat_minor": 2
}
